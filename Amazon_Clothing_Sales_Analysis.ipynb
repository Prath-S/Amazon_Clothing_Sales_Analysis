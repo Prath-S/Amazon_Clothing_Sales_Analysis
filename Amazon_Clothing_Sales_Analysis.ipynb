{
 "cells": [
  {
   "cell_type": "markdown",
   "metadata": {},
   "source": [
    "# Importing Libraries\n",
    "___________________________________________________________________________________________________________________________"
   ]
  },
  {
   "cell_type": "code",
   "execution_count": 1,
   "metadata": {},
   "outputs": [],
   "source": [
    "import pandas as pd\n",
    "import numpy as np\n",
    "import matplotlib.pyplot as plt\n",
    "import seaborn as sns"
   ]
  },
  {
   "cell_type": "code",
   "execution_count": 2,
   "metadata": {},
   "outputs": [],
   "source": [
    "import warnings\n",
    "warnings.filterwarnings('ignore')"
   ]
  },
  {
   "cell_type": "markdown",
   "metadata": {},
   "source": [
    "##  Loading the Data and Initial Exploration\n",
    "________________________________________________________________________________________________________________________"
   ]
  },
  {
   "cell_type": "code",
   "execution_count": 3,
   "metadata": {},
   "outputs": [],
   "source": [
    "# Loading the dataset\n",
    "df = pd.read_csv('Amazon Sale Report.csv')\n",
    "\n",
    "# Setting Pandas option to display all columns:\n",
    "pd.set_option('display.max_columns', None)     "
   ]
  },
  {
   "cell_type": "code",
   "execution_count": 4,
   "metadata": {},
   "outputs": [
    {
     "name": "stdout",
     "output_type": "stream",
     "text": [
      "<class 'pandas.core.frame.DataFrame'>\n",
      "RangeIndex: 128975 entries, 0 to 128974\n",
      "Data columns (total 24 columns):\n",
      " #   Column              Non-Null Count   Dtype  \n",
      "---  ------              --------------   -----  \n",
      " 0   index               128975 non-null  int64  \n",
      " 1   Order ID            128975 non-null  object \n",
      " 2   Date                128975 non-null  object \n",
      " 3   Status              128975 non-null  object \n",
      " 4   Fulfilment          128975 non-null  object \n",
      " 5   Sales Channel       128975 non-null  object \n",
      " 6   ship-service-level  128975 non-null  object \n",
      " 7   Style               128975 non-null  object \n",
      " 8   SKU                 128975 non-null  object \n",
      " 9   Category            128975 non-null  object \n",
      " 10  Size                128975 non-null  object \n",
      " 11  ASIN                128975 non-null  object \n",
      " 12  Courier Status      122103 non-null  object \n",
      " 13  Qty                 128975 non-null  int64  \n",
      " 14  currency            121180 non-null  object \n",
      " 15  Amount              121180 non-null  float64\n",
      " 16  ship-city           128942 non-null  object \n",
      " 17  ship-state          128942 non-null  object \n",
      " 18  ship-postal-code    128942 non-null  float64\n",
      " 19  ship-country        128942 non-null  object \n",
      " 20  promotion-ids       79822 non-null   object \n",
      " 21  B2B                 128975 non-null  bool   \n",
      " 22  fulfilled-by        39277 non-null   object \n",
      " 23  Unnamed: 22         79925 non-null   object \n",
      "dtypes: bool(1), float64(2), int64(2), object(19)\n",
      "memory usage: 22.8+ MB\n"
     ]
    }
   ],
   "source": [
    "# Understanding dataset structure\n",
    "df.info()"
   ]
  },
  {
   "cell_type": "code",
   "execution_count": 5,
   "metadata": {},
   "outputs": [
    {
     "data": {
      "text/html": [
       "<div>\n",
       "<style scoped>\n",
       "    .dataframe tbody tr th:only-of-type {\n",
       "        vertical-align: middle;\n",
       "    }\n",
       "\n",
       "    .dataframe tbody tr th {\n",
       "        vertical-align: top;\n",
       "    }\n",
       "\n",
       "    .dataframe thead th {\n",
       "        text-align: right;\n",
       "    }\n",
       "</style>\n",
       "<table border=\"1\" class=\"dataframe\">\n",
       "  <thead>\n",
       "    <tr style=\"text-align: right;\">\n",
       "      <th></th>\n",
       "      <th>index</th>\n",
       "      <th>order_id</th>\n",
       "      <th>date</th>\n",
       "      <th>status</th>\n",
       "      <th>fulfilment</th>\n",
       "      <th>sales_channel_</th>\n",
       "      <th>ship_service_level</th>\n",
       "      <th>style</th>\n",
       "      <th>sku</th>\n",
       "      <th>category</th>\n",
       "      <th>size</th>\n",
       "      <th>asin</th>\n",
       "      <th>courier_status</th>\n",
       "      <th>qty</th>\n",
       "      <th>currency</th>\n",
       "      <th>amount</th>\n",
       "      <th>ship_city</th>\n",
       "      <th>ship_state</th>\n",
       "      <th>ship_postal_code</th>\n",
       "      <th>ship_country</th>\n",
       "      <th>promotion_ids</th>\n",
       "      <th>b2b</th>\n",
       "      <th>fulfilled_by</th>\n",
       "      <th>unnamed:_22</th>\n",
       "    </tr>\n",
       "  </thead>\n",
       "  <tbody>\n",
       "    <tr>\n",
       "      <th>0</th>\n",
       "      <td>0</td>\n",
       "      <td>405-8078784-5731545</td>\n",
       "      <td>04-30-22</td>\n",
       "      <td>Cancelled</td>\n",
       "      <td>Merchant</td>\n",
       "      <td>Amazon.in</td>\n",
       "      <td>Standard</td>\n",
       "      <td>SET389</td>\n",
       "      <td>SET389-KR-NP-S</td>\n",
       "      <td>Set</td>\n",
       "      <td>S</td>\n",
       "      <td>B09KXVBD7Z</td>\n",
       "      <td>NaN</td>\n",
       "      <td>0</td>\n",
       "      <td>INR</td>\n",
       "      <td>647.62</td>\n",
       "      <td>MUMBAI</td>\n",
       "      <td>MAHARASHTRA</td>\n",
       "      <td>400081.0</td>\n",
       "      <td>IN</td>\n",
       "      <td>NaN</td>\n",
       "      <td>False</td>\n",
       "      <td>Easy Ship</td>\n",
       "      <td>NaN</td>\n",
       "    </tr>\n",
       "    <tr>\n",
       "      <th>1</th>\n",
       "      <td>1</td>\n",
       "      <td>171-9198151-1101146</td>\n",
       "      <td>04-30-22</td>\n",
       "      <td>Shipped - Delivered to Buyer</td>\n",
       "      <td>Merchant</td>\n",
       "      <td>Amazon.in</td>\n",
       "      <td>Standard</td>\n",
       "      <td>JNE3781</td>\n",
       "      <td>JNE3781-KR-XXXL</td>\n",
       "      <td>kurta</td>\n",
       "      <td>3XL</td>\n",
       "      <td>B09K3WFS32</td>\n",
       "      <td>Shipped</td>\n",
       "      <td>1</td>\n",
       "      <td>INR</td>\n",
       "      <td>406.00</td>\n",
       "      <td>BENGALURU</td>\n",
       "      <td>KARNATAKA</td>\n",
       "      <td>560085.0</td>\n",
       "      <td>IN</td>\n",
       "      <td>Amazon PLCC Free-Financing Universal Merchant ...</td>\n",
       "      <td>False</td>\n",
       "      <td>Easy Ship</td>\n",
       "      <td>NaN</td>\n",
       "    </tr>\n",
       "    <tr>\n",
       "      <th>2</th>\n",
       "      <td>2</td>\n",
       "      <td>404-0687676-7273146</td>\n",
       "      <td>04-30-22</td>\n",
       "      <td>Shipped</td>\n",
       "      <td>Amazon</td>\n",
       "      <td>Amazon.in</td>\n",
       "      <td>Expedited</td>\n",
       "      <td>JNE3371</td>\n",
       "      <td>JNE3371-KR-XL</td>\n",
       "      <td>kurta</td>\n",
       "      <td>XL</td>\n",
       "      <td>B07WV4JV4D</td>\n",
       "      <td>Shipped</td>\n",
       "      <td>1</td>\n",
       "      <td>INR</td>\n",
       "      <td>329.00</td>\n",
       "      <td>NAVI MUMBAI</td>\n",
       "      <td>MAHARASHTRA</td>\n",
       "      <td>410210.0</td>\n",
       "      <td>IN</td>\n",
       "      <td>IN Core Free Shipping 2015/04/08 23-48-5-108</td>\n",
       "      <td>True</td>\n",
       "      <td>NaN</td>\n",
       "      <td>NaN</td>\n",
       "    </tr>\n",
       "    <tr>\n",
       "      <th>3</th>\n",
       "      <td>3</td>\n",
       "      <td>403-9615377-8133951</td>\n",
       "      <td>04-30-22</td>\n",
       "      <td>Cancelled</td>\n",
       "      <td>Merchant</td>\n",
       "      <td>Amazon.in</td>\n",
       "      <td>Standard</td>\n",
       "      <td>J0341</td>\n",
       "      <td>J0341-DR-L</td>\n",
       "      <td>Western Dress</td>\n",
       "      <td>L</td>\n",
       "      <td>B099NRCT7B</td>\n",
       "      <td>NaN</td>\n",
       "      <td>0</td>\n",
       "      <td>INR</td>\n",
       "      <td>753.33</td>\n",
       "      <td>PUDUCHERRY</td>\n",
       "      <td>PUDUCHERRY</td>\n",
       "      <td>605008.0</td>\n",
       "      <td>IN</td>\n",
       "      <td>NaN</td>\n",
       "      <td>False</td>\n",
       "      <td>Easy Ship</td>\n",
       "      <td>NaN</td>\n",
       "    </tr>\n",
       "    <tr>\n",
       "      <th>4</th>\n",
       "      <td>4</td>\n",
       "      <td>407-1069790-7240320</td>\n",
       "      <td>04-30-22</td>\n",
       "      <td>Shipped</td>\n",
       "      <td>Amazon</td>\n",
       "      <td>Amazon.in</td>\n",
       "      <td>Expedited</td>\n",
       "      <td>JNE3671</td>\n",
       "      <td>JNE3671-TU-XXXL</td>\n",
       "      <td>Top</td>\n",
       "      <td>3XL</td>\n",
       "      <td>B098714BZP</td>\n",
       "      <td>Shipped</td>\n",
       "      <td>1</td>\n",
       "      <td>INR</td>\n",
       "      <td>574.00</td>\n",
       "      <td>CHENNAI</td>\n",
       "      <td>TAMIL NADU</td>\n",
       "      <td>600073.0</td>\n",
       "      <td>IN</td>\n",
       "      <td>NaN</td>\n",
       "      <td>False</td>\n",
       "      <td>NaN</td>\n",
       "      <td>NaN</td>\n",
       "    </tr>\n",
       "  </tbody>\n",
       "</table>\n",
       "</div>"
      ],
      "text/plain": [
       "   index             order_id      date                        status  \\\n",
       "0      0  405-8078784-5731545  04-30-22                     Cancelled   \n",
       "1      1  171-9198151-1101146  04-30-22  Shipped - Delivered to Buyer   \n",
       "2      2  404-0687676-7273146  04-30-22                       Shipped   \n",
       "3      3  403-9615377-8133951  04-30-22                     Cancelled   \n",
       "4      4  407-1069790-7240320  04-30-22                       Shipped   \n",
       "\n",
       "  fulfilment sales_channel_ ship_service_level    style              sku  \\\n",
       "0   Merchant      Amazon.in           Standard   SET389   SET389-KR-NP-S   \n",
       "1   Merchant      Amazon.in           Standard  JNE3781  JNE3781-KR-XXXL   \n",
       "2     Amazon      Amazon.in          Expedited  JNE3371    JNE3371-KR-XL   \n",
       "3   Merchant      Amazon.in           Standard    J0341       J0341-DR-L   \n",
       "4     Amazon      Amazon.in          Expedited  JNE3671  JNE3671-TU-XXXL   \n",
       "\n",
       "        category size        asin courier_status  qty currency  amount  \\\n",
       "0            Set    S  B09KXVBD7Z            NaN    0      INR  647.62   \n",
       "1          kurta  3XL  B09K3WFS32        Shipped    1      INR  406.00   \n",
       "2          kurta   XL  B07WV4JV4D        Shipped    1      INR  329.00   \n",
       "3  Western Dress    L  B099NRCT7B            NaN    0      INR  753.33   \n",
       "4            Top  3XL  B098714BZP        Shipped    1      INR  574.00   \n",
       "\n",
       "     ship_city   ship_state  ship_postal_code ship_country  \\\n",
       "0       MUMBAI  MAHARASHTRA          400081.0           IN   \n",
       "1    BENGALURU    KARNATAKA          560085.0           IN   \n",
       "2  NAVI MUMBAI  MAHARASHTRA          410210.0           IN   \n",
       "3   PUDUCHERRY   PUDUCHERRY          605008.0           IN   \n",
       "4      CHENNAI   TAMIL NADU          600073.0           IN   \n",
       "\n",
       "                                       promotion_ids    b2b fulfilled_by  \\\n",
       "0                                                NaN  False    Easy Ship   \n",
       "1  Amazon PLCC Free-Financing Universal Merchant ...  False    Easy Ship   \n",
       "2       IN Core Free Shipping 2015/04/08 23-48-5-108   True          NaN   \n",
       "3                                                NaN  False    Easy Ship   \n",
       "4                                                NaN  False          NaN   \n",
       "\n",
       "  unnamed:_22  \n",
       "0         NaN  \n",
       "1         NaN  \n",
       "2         NaN  \n",
       "3         NaN  \n",
       "4         NaN  "
      ]
     },
     "execution_count": 5,
     "metadata": {},
     "output_type": "execute_result"
    }
   ],
   "source": [
    "# Modifying column names to make them consistent and more suitable for analysis and glancing through the data.\n",
    "df.columns = df.columns.str.lower().str.replace(' ', '_').str.replace('-', '_')\n",
    "df.head(5)"
   ]
  },
  {
   "cell_type": "markdown",
   "metadata": {},
   "source": [
    "## Data Cleaning\n",
    "___________________________________________________________________________________________________________________________"
   ]
  },
  {
   "cell_type": "code",
   "execution_count": 6,
   "metadata": {},
   "outputs": [
    {
     "name": "stdout",
     "output_type": "stream",
     "text": [
      "Integer_columns:\n",
      "['index', 'qty']\n",
      "\n",
      "Float_columns:\n",
      "['amount', 'ship_postal_code']\n",
      "\n",
      "Object_columns:\n",
      "['order_id', 'date', 'status', 'fulfilment', 'sales_channel_', 'ship_service_level', 'style', 'sku', 'category', 'size', 'asin', 'courier_status', 'currency', 'ship_city', 'ship_state', 'ship_country', 'promotion_ids', 'fulfilled_by', 'unnamed:_22']\n"
     ]
    }
   ],
   "source": [
    "# Categorizing its columns into three lists based on data types:\n",
    "# integer_columns, float_columns, and object_columns.\n",
    "\n",
    "integer_cols = list(df.select_dtypes(include=['int64']).columns)\n",
    "float_cols = list(df.select_dtypes(include=['float64']).columns)\n",
    "object_cols = list(df.select_dtypes(include=['object']).columns)\n",
    "\n",
    "\n",
    "print(f\"Integer_columns:\\n{integer_cols}\\n\\nFloat_columns:\\n{float_cols}\\n\\nObject_columns:\\n{object_cols}\")"
   ]
  },
  {
   "cell_type": "code",
   "execution_count": 7,
   "metadata": {},
   "outputs": [
    {
     "data": {
      "text/html": [
       "<div>\n",
       "<style scoped>\n",
       "    .dataframe tbody tr th:only-of-type {\n",
       "        vertical-align: middle;\n",
       "    }\n",
       "\n",
       "    .dataframe tbody tr th {\n",
       "        vertical-align: top;\n",
       "    }\n",
       "\n",
       "    .dataframe thead th {\n",
       "        text-align: right;\n",
       "    }\n",
       "</style>\n",
       "<table border=\"1\" class=\"dataframe\">\n",
       "  <thead>\n",
       "    <tr style=\"text-align: right;\">\n",
       "      <th></th>\n",
       "      <th>Columns</th>\n",
       "      <th>Unique Values</th>\n",
       "    </tr>\n",
       "  </thead>\n",
       "  <tbody>\n",
       "    <tr>\n",
       "      <th>0</th>\n",
       "      <td>order_id</td>\n",
       "      <td>120378</td>\n",
       "    </tr>\n",
       "    <tr>\n",
       "      <th>1</th>\n",
       "      <td>date</td>\n",
       "      <td>91</td>\n",
       "    </tr>\n",
       "    <tr>\n",
       "      <th>2</th>\n",
       "      <td>status</td>\n",
       "      <td>13</td>\n",
       "    </tr>\n",
       "    <tr>\n",
       "      <th>3</th>\n",
       "      <td>fulfilment</td>\n",
       "      <td>2</td>\n",
       "    </tr>\n",
       "    <tr>\n",
       "      <th>4</th>\n",
       "      <td>sales_channel_</td>\n",
       "      <td>2</td>\n",
       "    </tr>\n",
       "    <tr>\n",
       "      <th>5</th>\n",
       "      <td>ship_service_level</td>\n",
       "      <td>2</td>\n",
       "    </tr>\n",
       "    <tr>\n",
       "      <th>6</th>\n",
       "      <td>style</td>\n",
       "      <td>1377</td>\n",
       "    </tr>\n",
       "    <tr>\n",
       "      <th>7</th>\n",
       "      <td>sku</td>\n",
       "      <td>7195</td>\n",
       "    </tr>\n",
       "    <tr>\n",
       "      <th>8</th>\n",
       "      <td>category</td>\n",
       "      <td>9</td>\n",
       "    </tr>\n",
       "    <tr>\n",
       "      <th>9</th>\n",
       "      <td>size</td>\n",
       "      <td>11</td>\n",
       "    </tr>\n",
       "    <tr>\n",
       "      <th>10</th>\n",
       "      <td>asin</td>\n",
       "      <td>7190</td>\n",
       "    </tr>\n",
       "    <tr>\n",
       "      <th>11</th>\n",
       "      <td>courier_status</td>\n",
       "      <td>3</td>\n",
       "    </tr>\n",
       "    <tr>\n",
       "      <th>12</th>\n",
       "      <td>currency</td>\n",
       "      <td>1</td>\n",
       "    </tr>\n",
       "    <tr>\n",
       "      <th>13</th>\n",
       "      <td>ship_city</td>\n",
       "      <td>8955</td>\n",
       "    </tr>\n",
       "    <tr>\n",
       "      <th>14</th>\n",
       "      <td>ship_state</td>\n",
       "      <td>69</td>\n",
       "    </tr>\n",
       "    <tr>\n",
       "      <th>15</th>\n",
       "      <td>ship_country</td>\n",
       "      <td>1</td>\n",
       "    </tr>\n",
       "    <tr>\n",
       "      <th>16</th>\n",
       "      <td>promotion_ids</td>\n",
       "      <td>5787</td>\n",
       "    </tr>\n",
       "    <tr>\n",
       "      <th>17</th>\n",
       "      <td>fulfilled_by</td>\n",
       "      <td>1</td>\n",
       "    </tr>\n",
       "    <tr>\n",
       "      <th>18</th>\n",
       "      <td>unnamed:_22</td>\n",
       "      <td>1</td>\n",
       "    </tr>\n",
       "  </tbody>\n",
       "</table>\n",
       "</div>"
      ],
      "text/plain": [
       "               Columns  Unique Values\n",
       "0             order_id         120378\n",
       "1                 date             91\n",
       "2               status             13\n",
       "3           fulfilment              2\n",
       "4       sales_channel_              2\n",
       "5   ship_service_level              2\n",
       "6                style           1377\n",
       "7                  sku           7195\n",
       "8             category              9\n",
       "9                 size             11\n",
       "10                asin           7190\n",
       "11      courier_status              3\n",
       "12            currency              1\n",
       "13           ship_city           8955\n",
       "14          ship_state             69\n",
       "15        ship_country              1\n",
       "16       promotion_ids           5787\n",
       "17        fulfilled_by              1\n",
       "18         unnamed:_22              1"
      ]
     },
     "execution_count": 7,
     "metadata": {},
     "output_type": "execute_result"
    }
   ],
   "source": [
    "# counting the unique values for each columns with dtype='object', returning the results in a new DataFrame.\n",
    "unique_object_counts = []\n",
    "for i in object_cols:\n",
    "    unique_object_counts.append([i, df[i].nunique()])\n",
    "    \n",
    "unique_object_counts = pd.DataFrame(unique_object_counts, columns=['Columns', 'Unique Values'])\n",
    "unique_object_counts"
   ]
  },
  {
   "cell_type": "code",
   "execution_count": 8,
   "metadata": {},
   "outputs": [],
   "source": [
    "# Filtering suitable categorical columns in a list.\n",
    "cat_cols = ['status', 'fulfilment', 'sales_channel_', 'ship_service_level', 'category', 'size', \n",
    "            'courier_status', 'currency', 'ship_state', 'ship_country', 'fulfilled_by', 'unnamed:_22']"
   ]
  },
  {
   "cell_type": "code",
   "execution_count": 9,
   "metadata": {},
   "outputs": [
    {
     "name": "stdout",
     "output_type": "stream",
     "text": [
      "\n",
      "STATUS:\n",
      "\n",
      "                      Category  Count\n",
      "                       Shipped  77804\n",
      "  Shipped - Delivered to Buyer  28769\n",
      "                     Cancelled  18332\n",
      "  Shipped - Returned to Seller   1953\n",
      "           Shipped - Picked Up    973\n",
      "                       Pending    658\n",
      " Pending - Waiting for Pick Up    281\n",
      " Shipped - Returning to Seller    145\n",
      "    Shipped - Out for Delivery     35\n",
      "   Shipped - Rejected by Buyer     11\n",
      "                      Shipping      8\n",
      "     Shipped - Lost in Transit      5\n",
      "             Shipped - Damaged      1\n",
      "\n",
      "____________________________________________________________\n",
      "\n",
      "\n",
      "FULFILMENT:\n",
      "\n",
      " Category  Count\n",
      "   Amazon  89698\n",
      " Merchant  39277\n",
      "\n",
      "____________________________________________________________\n",
      "\n",
      "\n",
      "SALES_CHANNEL_:\n",
      "\n",
      "   Category   Count\n",
      "  Amazon.in  128851\n",
      " Non-Amazon     124\n",
      "\n",
      "____________________________________________________________\n",
      "\n",
      "\n",
      "SHIP_SERVICE_LEVEL:\n",
      "\n",
      "  Category  Count\n",
      " Expedited  88615\n",
      "  Standard  40360\n",
      "\n",
      "____________________________________________________________\n",
      "\n",
      "\n",
      "CATEGORY:\n",
      "\n",
      "      Category  Count\n",
      "           Set  50284\n",
      "         kurta  49877\n",
      " Western Dress  15500\n",
      "           Top  10622\n",
      "  Ethnic Dress   1159\n",
      "        Blouse    926\n",
      "        Bottom    440\n",
      "         Saree    164\n",
      "       Dupatta      3\n",
      "\n",
      "____________________________________________________________\n",
      "\n",
      "\n",
      "SIZE:\n",
      "\n",
      "Category  Count\n",
      "       M  22711\n",
      "       L  22132\n",
      "      XL  20876\n",
      "     XXL  18096\n",
      "       S  17090\n",
      "     3XL  14816\n",
      "      XS  11161\n",
      "     6XL    738\n",
      "     5XL    550\n",
      "     4XL    427\n",
      "    Free    378\n",
      "\n",
      "____________________________________________________________\n",
      "\n",
      "\n",
      "COURIER_STATUS:\n",
      "\n",
      "  Category   Count\n",
      "   Shipped  109487\n",
      " Unshipped    6681\n",
      " Cancelled    5935\n",
      "\n",
      "____________________________________________________________\n",
      "\n",
      "\n",
      "CURRENCY:\n",
      "\n",
      "Category   Count\n",
      "     INR  121180\n",
      "\n",
      "____________________________________________________________\n",
      "\n",
      "\n",
      "SHIP_STATE:\n",
      "\n",
      "               Category  Count\n",
      "            MAHARASHTRA  22260\n",
      "              KARNATAKA  17326\n",
      "             TAMIL NADU  11483\n",
      "              TELANGANA  11330\n",
      "          UTTAR PRADESH  10638\n",
      "                  DELHI   6782\n",
      "                 KERALA   6585\n",
      "            WEST BENGAL   5963\n",
      "         ANDHRA PRADESH   5430\n",
      "                Gujarat   4489\n",
      "                HARYANA   4415\n",
      "              RAJASTHAN   2650\n",
      "         MADHYA PRADESH   2529\n",
      "                 ODISHA   2115\n",
      "                  BIHAR   2086\n",
      "                 PUNJAB   1869\n",
      "                  ASSAM   1663\n",
      "            UTTARAKHAND   1553\n",
      "              JHARKHAND   1456\n",
      "                    GOA   1102\n",
      "           CHHATTISGARH    909\n",
      "       HIMACHAL PRADESH    788\n",
      "        JAMMU & KASHMIR    702\n",
      "             PUDUCHERRY    349\n",
      "             CHANDIGARH    322\n",
      "                MANIPUR    311\n",
      "     ANDAMAN & NICOBAR     257\n",
      "              MEGHALAYA    204\n",
      "                 SIKKIM    202\n",
      "               NAGALAND    184\n",
      "                  Delhi    164\n",
      "                TRIPURA    151\n",
      "      ARUNACHAL PRADESH    141\n",
      "              New Delhi     81\n",
      "                MIZORAM     75\n",
      "        DADRA AND NAGAR     70\n",
      "              Rajasthan     55\n",
      "                 LADAKH     43\n",
      "                 Punjab     34\n",
      "                    Goa     30\n",
      "                  Bihar     27\n",
      "                 Odisha     21\n",
      "                  delhi     21\n",
      "                 punjab     14\n",
      "             Chandigarh     11\n",
      "              rajasthan      6\n",
      "                    goa      5\n",
      "                Manipur      5\n",
      "            LAKSHADWEEP      4\n",
      "              Meghalaya      3\n",
      "                 Sikkim      3\n",
      "      Arunachal Pradesh      3\n",
      "              Rajshthan      3\n",
      "                     NL      2\n",
      "      Arunachal pradesh      2\n",
      "                 Orissa      2\n",
      "                     RJ      2\n",
      "                Mizoram      1\n",
      "                  bihar      1\n",
      "                    APO      1\n",
      "                     PB      1\n",
      "               rajsthan      1\n",
      "               Nagaland      1\n",
      "                     AR      1\n",
      " Punjab/Mohali/Zirakpur      1\n",
      "            Pondicherry      1\n",
      "               Rajsthan      1\n",
      "                 orissa      1\n",
      "             Puducherry      1\n",
      "\n",
      "____________________________________________________________\n",
      "\n",
      "\n",
      "SHIP_COUNTRY:\n",
      "\n",
      "Category   Count\n",
      "      IN  128942\n",
      "\n",
      "____________________________________________________________\n",
      "\n",
      "\n",
      "FULFILLED_BY:\n",
      "\n",
      "  Category  Count\n",
      " Easy Ship  39277\n",
      "\n",
      "____________________________________________________________\n",
      "\n",
      "\n",
      "UNNAMED:_22:\n",
      "\n",
      " Category  Count\n",
      "    False  79925\n",
      "\n",
      "____________________________________________________________\n",
      "\n"
     ]
    }
   ],
   "source": [
    "# Summarizing categorical column by displaying the count of unique values in a tabular format.\n",
    "for col in cat_cols:\n",
    "    value_counts = df[col].value_counts().reset_index()\n",
    "    value_counts.columns = ['Category', 'Count']\n",
    "\n",
    "    print(f'\\n{col.upper()}:\\n')\n",
    "    print(value_counts.to_string(index=False))\n",
    "    print('\\n' + '__' * 30 + '\\n')"
   ]
  },
  {
   "cell_type": "code",
   "execution_count": 10,
   "metadata": {},
   "outputs": [
    {
     "data": {
      "text/plain": [
       "In_transit             77804\n",
       "Delivered              28769\n",
       "Cancelled              18332\n",
       "Returned                1953\n",
       "Order_picked_up          973\n",
       "Order_initiated          658\n",
       "Waiting_for_pick_up      281\n",
       "Returning_to_seller      145\n",
       "Out_for_delivery          35\n",
       "Rejected                  11\n",
       "in_local_hub               8\n",
       "Lost_in_transit            5\n",
       "Damaged                    1\n",
       "Name: status, dtype: int64"
      ]
     },
     "execution_count": 10,
     "metadata": {},
     "output_type": "execute_result"
    }
   ],
   "source": [
    "delivery_status = {'Cancelled'                       :'Cancelled',\n",
    "                     'Shipped - Delivered to Buyer'  :'Delivered',\n",
    "                     'Shipped'                       :'In_transit',\n",
    "                     'Shipped - Returned to Seller'  :'Returned',\n",
    "                     'Shipped - Rejected by Buyer'   :'Rejected',\n",
    "                     'Shipped - Lost in Transit'     :'Lost_in_transit',\n",
    "                     'Shipped - Out for Delivery'    :'Out_for_delivery',\n",
    "                     'Shipped - Returning to Seller' :'Returning_to_seller',\n",
    "                     'Shipped - Picked Up'           :'Order_picked_up',\n",
    "                     'Pending'                       :'Order_initiated',\n",
    "                     'Pending - Waiting for Pick Up' :'Waiting_for_pick_up',\n",
    "                     'Shipped - Damaged'             :'Damaged',\n",
    "                     'Shipping'                      :'in_local_hub'\n",
    "}\n",
    "\n",
    "# updating the values in 'status' column with new values according to the mapping in the dictionary.\n",
    "df['status'] = df['status'].replace(delivery_status)\n",
    "\n",
    "# extracting count of unique values in updated 'status' column.\n",
    "df['status'].value_counts()"
   ]
  },
  {
   "cell_type": "code",
   "execution_count": 11,
   "metadata": {
    "scrolled": true
   },
   "outputs": [
    {
     "data": {
      "text/plain": [
       "array(['MAHARASHTRA', 'KARNATAKA', 'PUDUCHERRY', 'TAMIL NADU',\n",
       "       'UTTAR PRADESH', 'CHANDIGARH', 'TELANGANA', 'ANDHRA PRADESH',\n",
       "       'RAJASTHAN', 'DELHI', 'HARYANA', 'ASSAM', 'JHARKHAND',\n",
       "       'CHHATTISGARH', 'ODISHA', 'KERALA', 'MADHYA PRADESH',\n",
       "       'WEST BENGAL', 'NAGALAND', 'Gujarat', 'UTTARAKHAND', 'BIHAR',\n",
       "       'JAMMU & KASHMIR', 'PUNJAB', 'HIMACHAL PRADESH',\n",
       "       'ARUNACHAL PRADESH', 'MANIPUR', 'Goa', 'MEGHALAYA', 'GOA',\n",
       "       'TRIPURA', 'LADAKH', 'DADRA AND NAGAR', 'SIKKIM', 'Delhi', nan,\n",
       "       'ANDAMAN & NICOBAR ', 'Punjab', 'Rajshthan', 'Manipur',\n",
       "       'rajasthan', 'Odisha', 'NL', 'Bihar', 'MIZORAM', 'punjab',\n",
       "       'New Delhi', 'Rajasthan', 'Punjab/Mohali/Zirakpur', 'Puducherry',\n",
       "       'delhi', 'RJ', 'Chandigarh', 'orissa', 'LAKSHADWEEP', 'goa', 'PB',\n",
       "       'APO', 'Arunachal Pradesh', 'AR', 'Pondicherry', 'Sikkim',\n",
       "       'Arunachal pradesh', 'Nagaland', 'bihar', 'Mizoram', 'rajsthan',\n",
       "       'Orissa', 'Rajsthan', 'Meghalaya'], dtype=object)"
      ]
     },
     "execution_count": 11,
     "metadata": {},
     "output_type": "execute_result"
    }
   ],
   "source": [
    "# Displaying unique values in the 'ship_state' column\n",
    "df['ship_state'].unique()"
   ]
  },
  {
   "cell_type": "markdown",
   "metadata": {},
   "source": [
    ">  __'ship_state' column in dataset has lot of dupicate values due to uneven character casing__"
   ]
  },
  {
   "cell_type": "code",
   "execution_count": 12,
   "metadata": {},
   "outputs": [
    {
     "data": {
      "text/plain": [
       "Maharashtra               22260\n",
       "Karnataka                 17326\n",
       "Tamil Nadu                11483\n",
       "Telangana                 11330\n",
       "Uttar Pradesh             10638\n",
       "Delhi                      6967\n",
       "Kerala                     6585\n",
       "West Bengal                5963\n",
       "Andhra Pradesh             5430\n",
       "Gujarat                    4489\n",
       "Haryana                    4415\n",
       "Rajasthan                  2711\n",
       "Madhya Pradesh             2529\n",
       "Odisha                     2136\n",
       "Bihar                      2114\n",
       "Punjab                     1917\n",
       "Assam                      1663\n",
       "Uttarakhand                1553\n",
       "Jharkhand                  1456\n",
       "Goa                        1137\n",
       "Chhattisgarh                909\n",
       "Himachal Pradesh            788\n",
       "Jammu & Kashmir             702\n",
       "Puducherry                  350\n",
       "Chandigarh                  333\n",
       "Manipur                     316\n",
       "Andaman & Nicobar           257\n",
       "Meghalaya                   207\n",
       "Sikkim                      205\n",
       "Nagaland                    185\n",
       "Tripura                     151\n",
       "Arunachal Pradesh           146\n",
       "New Delhi                    81\n",
       "Mizoram                      76\n",
       "Dadra And Nagar              70\n",
       "Ladakh                       43\n",
       "Lakshadweep                   4\n",
       "Rajshthan                     3\n",
       "Orissa                        3\n",
       "Rj                            2\n",
       "Rajsthan                      2\n",
       "Nl                            2\n",
       "Pondicherry                   1\n",
       "Ar                            1\n",
       "Punjab/Mohali/Zirakpur        1\n",
       "Apo                           1\n",
       "Pb                            1\n",
       "Name: ship_state, dtype: int64"
      ]
     },
     "execution_count": 12,
     "metadata": {},
     "output_type": "execute_result"
    }
   ],
   "source": [
    "# Updating column values such that text is capitalized to drop duplicates. \n",
    "df['ship_state'] = df['ship_state'].str.title()\n",
    "\n",
    "# extracting count of unique values in updated 'ship_state' column.\n",
    "df['ship_state'].value_counts()"
   ]
  },
  {
   "cell_type": "code",
   "execution_count": 13,
   "metadata": {},
   "outputs": [
    {
     "data": {
      "text/html": [
       "<div>\n",
       "<style scoped>\n",
       "    .dataframe tbody tr th:only-of-type {\n",
       "        vertical-align: middle;\n",
       "    }\n",
       "\n",
       "    .dataframe tbody tr th {\n",
       "        vertical-align: top;\n",
       "    }\n",
       "\n",
       "    .dataframe thead th {\n",
       "        text-align: right;\n",
       "    }\n",
       "</style>\n",
       "<table border=\"1\" class=\"dataframe\">\n",
       "  <thead>\n",
       "    <tr style=\"text-align: right;\">\n",
       "      <th></th>\n",
       "      <th>ship_city</th>\n",
       "      <th>ship_postal_code</th>\n",
       "    </tr>\n",
       "  </thead>\n",
       "  <tbody>\n",
       "    <tr>\n",
       "      <th>45187</th>\n",
       "      <td>APO</td>\n",
       "      <td>959121.0</td>\n",
       "    </tr>\n",
       "  </tbody>\n",
       "</table>\n",
       "</div>"
      ],
      "text/plain": [
       "      ship_city  ship_postal_code\n",
       "45187       APO          959121.0"
      ]
     },
     "execution_count": 13,
     "metadata": {},
     "output_type": "execute_result"
    }
   ],
   "source": [
    "#  Filtering unidentified state with columns 'ship_city' and 'ship_postal_code' \n",
    "df[df['ship_state']=='Apo'][['ship_city', 'ship_postal_code']]"
   ]
  },
  {
   "cell_type": "markdown",
   "metadata": {},
   "source": [
    "> __with reference to postal code 'APO' isn't any state but it is an abbrevaiation for army postal office__"
   ]
  },
  {
   "cell_type": "code",
   "execution_count": 14,
   "metadata": {},
   "outputs": [
    {
     "data": {
      "text/html": [
       "<div>\n",
       "<style scoped>\n",
       "    .dataframe tbody tr th:only-of-type {\n",
       "        vertical-align: middle;\n",
       "    }\n",
       "\n",
       "    .dataframe tbody tr th {\n",
       "        vertical-align: top;\n",
       "    }\n",
       "\n",
       "    .dataframe thead th {\n",
       "        text-align: right;\n",
       "    }\n",
       "</style>\n",
       "<table border=\"1\" class=\"dataframe\">\n",
       "  <thead>\n",
       "    <tr style=\"text-align: right;\">\n",
       "      <th></th>\n",
       "      <th>ship_city</th>\n",
       "      <th>ship_postal_code</th>\n",
       "    </tr>\n",
       "  </thead>\n",
       "  <tbody>\n",
       "    <tr>\n",
       "      <th>51420</th>\n",
       "      <td>ITANAGAR</td>\n",
       "      <td>791113.0</td>\n",
       "    </tr>\n",
       "  </tbody>\n",
       "</table>\n",
       "</div>"
      ],
      "text/plain": [
       "      ship_city  ship_postal_code\n",
       "51420  ITANAGAR          791113.0"
      ]
     },
     "execution_count": 14,
     "metadata": {},
     "output_type": "execute_result"
    }
   ],
   "source": [
    "# Filtering unidentified state with columns 'ship_city' and 'ship_postal_code'\n",
    "df[df['ship_state']=='Ar'][['ship_city', 'ship_postal_code']]"
   ]
  },
  {
   "cell_type": "markdown",
   "metadata": {},
   "source": [
    "> __with reference to postal code and city 'Ar' is Arunachal Pradesh.__"
   ]
  },
  {
   "cell_type": "code",
   "execution_count": 15,
   "metadata": {},
   "outputs": [
    {
     "name": "stdout",
     "output_type": "stream",
     "text": [
      "37 \n",
      "\n",
      "\n",
      "['Maharashtra' 'Karnataka' 'Puducherry' 'Tamil Nadu' 'Uttar Pradesh'\n",
      " 'Chandigarh' 'Telangana' 'Andhra Pradesh' 'Rajasthan' 'Delhi' 'Haryana'\n",
      " 'Assam' 'Jharkhand' 'Chhattisgarh' 'Odisha' 'Kerala' 'Madhya Pradesh'\n",
      " 'West Bengal' 'Nagaland' 'Gujarat' 'Uttarakhand' 'Bihar'\n",
      " 'Jammu & Kashmir' 'Punjab' 'Himachal Pradesh' 'Arunachal Pradesh'\n",
      " 'Manipur' 'Goa' 'Meghalaya' 'Tripura' 'Ladakh' 'Dadra And Nagar' 'Sikkim'\n",
      " nan 'Andaman & Nicobar ' 'Mizoram' 'Lakshadweep' 'Army_postal_Service']\n"
     ]
    }
   ],
   "source": [
    "# Replacing state abbreviations or incorrectly spelled state names with their full names in the 'ship_state' column.\n",
    "state_reorder = {'Apo': \"Army_postal_Service\",\n",
    "                 'Ar': \"Arunachal Pradesh\",\n",
    "                 'Punjab/Mohali/Zirakpur': \"Punjab\",\n",
    "                 'Pb': \"Punjab\",\n",
    "                 'Pondicherry': \"Puducherry\",\n",
    "                 'Rj': \"Rajasthan\",\n",
    "                 'Rajsthan': \"Rajasthan\",\n",
    "                 'Rajshthan': \"Rajasthan\",\n",
    "                 'Nl': \"Nagaland\",\n",
    "                 'Orissa': \"Odisha\",\n",
    "                 'New Delhi': \"Delhi\"\n",
    "}\n",
    "\n",
    "\n",
    "df['ship_state'] = df['ship_state'].replace(state_reorder)\n",
    "\n",
    "# Counting unique values for 'ship_state' column.\n",
    "print(df['ship_state'].nunique(), '\\n\\n')\n",
    "\n",
    "# Cross verifying whether all the states in 'ship_state' column are correctly labeled or not.\n",
    "print(df['ship_state'].unique())"
   ]
  },
  {
   "cell_type": "code",
   "execution_count": 16,
   "metadata": {
    "scrolled": false
   },
   "outputs": [
    {
     "name": "stdout",
     "output_type": "stream",
     "text": [
      "Unique Cities:  ['Mumbai' 'Bengaluru' 'Navi Mumbai' ... 'Cherukunnu (P.O)'\n",
      " 'Gulabpura, Distt Bhilwara' 'Prayagraj (Allahabad)'] \n",
      "\n",
      "\n",
      "Number of Unique Cities:  7297\n"
     ]
    }
   ],
   "source": [
    "# Updating column values such that text is capitalized to drop duplicates. \n",
    "df['ship_city'] = df['ship_city'].str.title()\n",
    "\n",
    "\n",
    "print('Unique Cities: ', df['ship_city'].unique(), '\\n\\n')\n",
    "print('Number of Unique Cities: ', df['ship_city'].nunique())"
   ]
  },
  {
   "cell_type": "markdown",
   "metadata": {},
   "source": [
    "> __Considerably dropped duplicated cities, still unique number of cities is too large to do deep down cleaning as similar to 'ship_state column'.__"
   ]
  },
  {
   "cell_type": "code",
   "execution_count": 17,
   "metadata": {},
   "outputs": [
    {
     "data": {
      "text/plain": [
       "JNE     54178\n",
       "SET     34570\n",
       "J       31116\n",
       "MEN      4044\n",
       "NW       2317\n",
       "PJNE     1492\n",
       "BL        451\n",
       "BTM       316\n",
       "PSET      190\n",
       "SAR       141\n",
       "AN         88\n",
       "CH         36\n",
       "PJ         33\n",
       "DPT         3\n",
       "Name: style_code, dtype: int64"
      ]
     },
     "execution_count": 17,
     "metadata": {},
     "output_type": "execute_result"
    }
   ],
   "source": [
    "# Extracting string part of 'style' column to obtain different categorical code of styles.\n",
    "df['style_code'] = df['style'].str.extract('([A-Za-z]+)')\n",
    "\n",
    "# Counting unique style codes extracted.\n",
    "df['style_code'].value_counts()"
   ]
  },
  {
   "cell_type": "code",
   "execution_count": 18,
   "metadata": {},
   "outputs": [],
   "source": [
    "# Creating new column 'style_category' as subcategory of 'category' column.\n",
    "df['style_category'] = df['category'] + \"_\" + df['style_code']"
   ]
  },
  {
   "cell_type": "code",
   "execution_count": 19,
   "metadata": {},
   "outputs": [
    {
     "data": {
      "text/plain": [
       "category       style_code\n",
       "Blouse         BL              451\n",
       "               J               475\n",
       "Bottom         AN               88\n",
       "               BTM             316\n",
       "               CH               36\n",
       "Dupatta        DPT               3\n",
       "Ethnic Dress   J              1104\n",
       "               JNE              55\n",
       "Saree          JNE              23\n",
       "               SAR             141\n",
       "Set            J             13208\n",
       "               NW             2317\n",
       "               PSET            190\n",
       "               SET           34569\n",
       "Top            J              6589\n",
       "               JNE            4033\n",
       "Western Dress  J              7253\n",
       "               JNE            8247\n",
       "kurta          J              2487\n",
       "               JNE           41820\n",
       "               MEN            4044\n",
       "               PJ               33\n",
       "               PJNE           1492\n",
       "               SET               1\n",
       "Name: index, dtype: int64"
      ]
     },
     "execution_count": 19,
     "metadata": {},
     "output_type": "execute_result"
    }
   ],
   "source": [
    "# Group the DataFrame by 'category' and 'style_code', then count the occurrences of each one.\n",
    "df.groupby(['category', 'style_code']).count()['index']"
   ]
  },
  {
   "cell_type": "code",
   "execution_count": 20,
   "metadata": {
    "scrolled": true
   },
   "outputs": [
    {
     "data": {
      "text/plain": [
       "array([nan, 'Amazon PLCC Free-Financing Universal',\n",
       "       'IN Core Free Shipping', 'Duplicated A12RHGVGRWOT3S 1560498941486',\n",
       "       'Duplicated AYTJSBA8ZOP16 1567159860988',\n",
       "       'VPC-44571-41445527 Coupon', 'VPC-44571-41445498 Coupon',\n",
       "       'VPC-44571-41445561 Coupon', 'VPC-44571-41445473 Coupon',\n",
       "       'VPC-44571-38707197 Coupon', 'VPC-44571-38708638 Coupon',\n",
       "       'VPC-44571-38707597 Coupon', 'VPC-44571-44201770 Coupon',\n",
       "       'VPC-44571-44201687 Coupon', 'VPC-44571-44201853 Coupon'],\n",
       "      dtype=object)"
      ]
     },
     "execution_count": 20,
     "metadata": {},
     "output_type": "execute_result"
    }
   ],
   "source": [
    "# Creating new column 'promotions' which contains cleaned values from 'promotion_ids' column\n",
    "# to check different promotions applied to the item.\n",
    "df['promotions'] = df['promotion_ids'].str.split().str[:4].str.join(' ')\n",
    "df['promotions'].unique()"
   ]
  },
  {
   "cell_type": "markdown",
   "metadata": {},
   "source": [
    "> __There are 10 different types of VPC coupons in addition to 4 different types of promotion codes__."
   ]
  },
  {
   "cell_type": "code",
   "execution_count": 21,
   "metadata": {},
   "outputs": [
    {
     "data": {
      "text/plain": [
       "IN Core Free Shipping                      46198\n",
       "Amazon PLCC Free-Financing Universal       32348\n",
       "Duplicated A12RHGVGRWOT3S 1560498941486      489\n",
       "Duplicated AYTJSBA8ZOP16 1567159860988       433\n",
       "VPC-44571 Coupon                             354\n",
       "Name: promotions, dtype: int64"
      ]
     },
     "execution_count": 21,
     "metadata": {},
     "output_type": "execute_result"
    }
   ],
   "source": [
    "# Clubbing 10 different VPC coupons as one single type for better categorization.\n",
    "df['promotions'] = df['promotions'].str.replace(r'^VPC-\\d{5}-\\d+ Coupon$', 'VPC-44571 Coupon')\n",
    "df['promotions'].value_counts()"
   ]
  },
  {
   "cell_type": "code",
   "execution_count": 22,
   "metadata": {},
   "outputs": [
    {
     "data": {
      "text/plain": [
       "Merchant    39277\n",
       "Name: fulfilment, dtype: int64"
      ]
     },
     "execution_count": 22,
     "metadata": {},
     "output_type": "execute_result"
    }
   ],
   "source": [
    "# Filtering 'fulfilled_by' column with 'fulfilment' column to check the relation between them.\n",
    "df[df['fulfilled_by']=='Easy Ship']['fulfilment'].value_counts()"
   ]
  },
  {
   "cell_type": "code",
   "execution_count": 23,
   "metadata": {},
   "outputs": [],
   "source": [
    "# converting 'ship_postal_code' column to dtype='string'.\n",
    "df['ship_postal_code'] = df['ship_postal_code'].astype('string').str.split('.').str[0]"
   ]
  },
  {
   "cell_type": "code",
   "execution_count": 24,
   "metadata": {},
   "outputs": [],
   "source": [
    "# converting 'date' column to dtype='datetime'.\n",
    "df['date'] = pd.to_datetime(df['date'])"
   ]
  },
  {
   "cell_type": "code",
   "execution_count": 25,
   "metadata": {},
   "outputs": [],
   "source": [
    "# Filtering unusable columns.\n",
    "cols_to_drop = ['unnamed:_22', 'ship_country', 'currency', 'fulfilled_by', 'index', 'order_id', 'sku', 'asin', 'promotion_ids', 'sales_channel_', 'style']"
   ]
  },
  {
   "cell_type": "code",
   "execution_count": 26,
   "metadata": {},
   "outputs": [
    {
     "data": {
      "text/html": [
       "<div>\n",
       "<style scoped>\n",
       "    .dataframe tbody tr th:only-of-type {\n",
       "        vertical-align: middle;\n",
       "    }\n",
       "\n",
       "    .dataframe tbody tr th {\n",
       "        vertical-align: top;\n",
       "    }\n",
       "\n",
       "    .dataframe thead th {\n",
       "        text-align: right;\n",
       "    }\n",
       "</style>\n",
       "<table border=\"1\" class=\"dataframe\">\n",
       "  <thead>\n",
       "    <tr style=\"text-align: right;\">\n",
       "      <th></th>\n",
       "      <th>date</th>\n",
       "      <th>status</th>\n",
       "      <th>fulfilment</th>\n",
       "      <th>ship_service_level</th>\n",
       "      <th>category</th>\n",
       "      <th>size</th>\n",
       "      <th>courier_status</th>\n",
       "      <th>qty</th>\n",
       "      <th>amount</th>\n",
       "      <th>ship_city</th>\n",
       "      <th>ship_state</th>\n",
       "      <th>ship_postal_code</th>\n",
       "      <th>b2b</th>\n",
       "      <th>style_code</th>\n",
       "      <th>style_category</th>\n",
       "      <th>promotions</th>\n",
       "    </tr>\n",
       "  </thead>\n",
       "  <tbody>\n",
       "    <tr>\n",
       "      <th>0</th>\n",
       "      <td>2022-04-30</td>\n",
       "      <td>Cancelled</td>\n",
       "      <td>Merchant</td>\n",
       "      <td>Standard</td>\n",
       "      <td>Set</td>\n",
       "      <td>S</td>\n",
       "      <td>NaN</td>\n",
       "      <td>0</td>\n",
       "      <td>647.62</td>\n",
       "      <td>Mumbai</td>\n",
       "      <td>Maharashtra</td>\n",
       "      <td>400081</td>\n",
       "      <td>False</td>\n",
       "      <td>SET</td>\n",
       "      <td>Set_SET</td>\n",
       "      <td>NaN</td>\n",
       "    </tr>\n",
       "    <tr>\n",
       "      <th>1</th>\n",
       "      <td>2022-04-30</td>\n",
       "      <td>Delivered</td>\n",
       "      <td>Merchant</td>\n",
       "      <td>Standard</td>\n",
       "      <td>kurta</td>\n",
       "      <td>3XL</td>\n",
       "      <td>Shipped</td>\n",
       "      <td>1</td>\n",
       "      <td>406.00</td>\n",
       "      <td>Bengaluru</td>\n",
       "      <td>Karnataka</td>\n",
       "      <td>560085</td>\n",
       "      <td>False</td>\n",
       "      <td>JNE</td>\n",
       "      <td>kurta_JNE</td>\n",
       "      <td>Amazon PLCC Free-Financing Universal</td>\n",
       "    </tr>\n",
       "    <tr>\n",
       "      <th>2</th>\n",
       "      <td>2022-04-30</td>\n",
       "      <td>In_transit</td>\n",
       "      <td>Amazon</td>\n",
       "      <td>Expedited</td>\n",
       "      <td>kurta</td>\n",
       "      <td>XL</td>\n",
       "      <td>Shipped</td>\n",
       "      <td>1</td>\n",
       "      <td>329.00</td>\n",
       "      <td>Navi Mumbai</td>\n",
       "      <td>Maharashtra</td>\n",
       "      <td>410210</td>\n",
       "      <td>True</td>\n",
       "      <td>JNE</td>\n",
       "      <td>kurta_JNE</td>\n",
       "      <td>IN Core Free Shipping</td>\n",
       "    </tr>\n",
       "    <tr>\n",
       "      <th>3</th>\n",
       "      <td>2022-04-30</td>\n",
       "      <td>Cancelled</td>\n",
       "      <td>Merchant</td>\n",
       "      <td>Standard</td>\n",
       "      <td>Western Dress</td>\n",
       "      <td>L</td>\n",
       "      <td>NaN</td>\n",
       "      <td>0</td>\n",
       "      <td>753.33</td>\n",
       "      <td>Puducherry</td>\n",
       "      <td>Puducherry</td>\n",
       "      <td>605008</td>\n",
       "      <td>False</td>\n",
       "      <td>J</td>\n",
       "      <td>Western Dress_J</td>\n",
       "      <td>NaN</td>\n",
       "    </tr>\n",
       "    <tr>\n",
       "      <th>4</th>\n",
       "      <td>2022-04-30</td>\n",
       "      <td>In_transit</td>\n",
       "      <td>Amazon</td>\n",
       "      <td>Expedited</td>\n",
       "      <td>Top</td>\n",
       "      <td>3XL</td>\n",
       "      <td>Shipped</td>\n",
       "      <td>1</td>\n",
       "      <td>574.00</td>\n",
       "      <td>Chennai</td>\n",
       "      <td>Tamil Nadu</td>\n",
       "      <td>600073</td>\n",
       "      <td>False</td>\n",
       "      <td>JNE</td>\n",
       "      <td>Top_JNE</td>\n",
       "      <td>NaN</td>\n",
       "    </tr>\n",
       "    <tr>\n",
       "      <th>...</th>\n",
       "      <td>...</td>\n",
       "      <td>...</td>\n",
       "      <td>...</td>\n",
       "      <td>...</td>\n",
       "      <td>...</td>\n",
       "      <td>...</td>\n",
       "      <td>...</td>\n",
       "      <td>...</td>\n",
       "      <td>...</td>\n",
       "      <td>...</td>\n",
       "      <td>...</td>\n",
       "      <td>...</td>\n",
       "      <td>...</td>\n",
       "      <td>...</td>\n",
       "      <td>...</td>\n",
       "      <td>...</td>\n",
       "    </tr>\n",
       "    <tr>\n",
       "      <th>128970</th>\n",
       "      <td>2022-05-31</td>\n",
       "      <td>In_transit</td>\n",
       "      <td>Amazon</td>\n",
       "      <td>Expedited</td>\n",
       "      <td>kurta</td>\n",
       "      <td>XL</td>\n",
       "      <td>Shipped</td>\n",
       "      <td>1</td>\n",
       "      <td>517.00</td>\n",
       "      <td>Hyderabad</td>\n",
       "      <td>Telangana</td>\n",
       "      <td>500013</td>\n",
       "      <td>False</td>\n",
       "      <td>JNE</td>\n",
       "      <td>kurta_JNE</td>\n",
       "      <td>NaN</td>\n",
       "    </tr>\n",
       "    <tr>\n",
       "      <th>128971</th>\n",
       "      <td>2022-05-31</td>\n",
       "      <td>In_transit</td>\n",
       "      <td>Amazon</td>\n",
       "      <td>Expedited</td>\n",
       "      <td>Set</td>\n",
       "      <td>M</td>\n",
       "      <td>Shipped</td>\n",
       "      <td>1</td>\n",
       "      <td>999.00</td>\n",
       "      <td>Gurugram</td>\n",
       "      <td>Haryana</td>\n",
       "      <td>122004</td>\n",
       "      <td>False</td>\n",
       "      <td>SET</td>\n",
       "      <td>Set_SET</td>\n",
       "      <td>IN Core Free Shipping</td>\n",
       "    </tr>\n",
       "    <tr>\n",
       "      <th>128972</th>\n",
       "      <td>2022-05-31</td>\n",
       "      <td>In_transit</td>\n",
       "      <td>Amazon</td>\n",
       "      <td>Expedited</td>\n",
       "      <td>Western Dress</td>\n",
       "      <td>XXL</td>\n",
       "      <td>Shipped</td>\n",
       "      <td>1</td>\n",
       "      <td>690.00</td>\n",
       "      <td>Hyderabad</td>\n",
       "      <td>Telangana</td>\n",
       "      <td>500049</td>\n",
       "      <td>False</td>\n",
       "      <td>J</td>\n",
       "      <td>Western Dress_J</td>\n",
       "      <td>NaN</td>\n",
       "    </tr>\n",
       "    <tr>\n",
       "      <th>128973</th>\n",
       "      <td>2022-05-31</td>\n",
       "      <td>In_transit</td>\n",
       "      <td>Amazon</td>\n",
       "      <td>Expedited</td>\n",
       "      <td>Set</td>\n",
       "      <td>XS</td>\n",
       "      <td>Shipped</td>\n",
       "      <td>1</td>\n",
       "      <td>1199.00</td>\n",
       "      <td>Halol</td>\n",
       "      <td>Gujarat</td>\n",
       "      <td>389350</td>\n",
       "      <td>False</td>\n",
       "      <td>J</td>\n",
       "      <td>Set_J</td>\n",
       "      <td>IN Core Free Shipping</td>\n",
       "    </tr>\n",
       "    <tr>\n",
       "      <th>128974</th>\n",
       "      <td>2022-05-31</td>\n",
       "      <td>In_transit</td>\n",
       "      <td>Amazon</td>\n",
       "      <td>Expedited</td>\n",
       "      <td>Set</td>\n",
       "      <td>S</td>\n",
       "      <td>Shipped</td>\n",
       "      <td>1</td>\n",
       "      <td>696.00</td>\n",
       "      <td>Raipur</td>\n",
       "      <td>Chhattisgarh</td>\n",
       "      <td>492014</td>\n",
       "      <td>False</td>\n",
       "      <td>J</td>\n",
       "      <td>Set_J</td>\n",
       "      <td>IN Core Free Shipping</td>\n",
       "    </tr>\n",
       "  </tbody>\n",
       "</table>\n",
       "<p>128975 rows × 16 columns</p>\n",
       "</div>"
      ],
      "text/plain": [
       "             date      status fulfilment ship_service_level       category  \\\n",
       "0      2022-04-30   Cancelled   Merchant           Standard            Set   \n",
       "1      2022-04-30   Delivered   Merchant           Standard          kurta   \n",
       "2      2022-04-30  In_transit     Amazon          Expedited          kurta   \n",
       "3      2022-04-30   Cancelled   Merchant           Standard  Western Dress   \n",
       "4      2022-04-30  In_transit     Amazon          Expedited            Top   \n",
       "...           ...         ...        ...                ...            ...   \n",
       "128970 2022-05-31  In_transit     Amazon          Expedited          kurta   \n",
       "128971 2022-05-31  In_transit     Amazon          Expedited            Set   \n",
       "128972 2022-05-31  In_transit     Amazon          Expedited  Western Dress   \n",
       "128973 2022-05-31  In_transit     Amazon          Expedited            Set   \n",
       "128974 2022-05-31  In_transit     Amazon          Expedited            Set   \n",
       "\n",
       "       size courier_status  qty   amount    ship_city    ship_state  \\\n",
       "0         S            NaN    0   647.62       Mumbai   Maharashtra   \n",
       "1       3XL        Shipped    1   406.00    Bengaluru     Karnataka   \n",
       "2        XL        Shipped    1   329.00  Navi Mumbai   Maharashtra   \n",
       "3         L            NaN    0   753.33   Puducherry    Puducherry   \n",
       "4       3XL        Shipped    1   574.00      Chennai    Tamil Nadu   \n",
       "...     ...            ...  ...      ...          ...           ...   \n",
       "128970   XL        Shipped    1   517.00    Hyderabad     Telangana   \n",
       "128971    M        Shipped    1   999.00     Gurugram       Haryana   \n",
       "128972  XXL        Shipped    1   690.00    Hyderabad     Telangana   \n",
       "128973   XS        Shipped    1  1199.00        Halol       Gujarat   \n",
       "128974    S        Shipped    1   696.00       Raipur  Chhattisgarh   \n",
       "\n",
       "       ship_postal_code    b2b style_code   style_category  \\\n",
       "0                400081  False        SET          Set_SET   \n",
       "1                560085  False        JNE        kurta_JNE   \n",
       "2                410210   True        JNE        kurta_JNE   \n",
       "3                605008  False          J  Western Dress_J   \n",
       "4                600073  False        JNE          Top_JNE   \n",
       "...                 ...    ...        ...              ...   \n",
       "128970           500013  False        JNE        kurta_JNE   \n",
       "128971           122004  False        SET          Set_SET   \n",
       "128972           500049  False          J  Western Dress_J   \n",
       "128973           389350  False          J            Set_J   \n",
       "128974           492014  False          J            Set_J   \n",
       "\n",
       "                                  promotions  \n",
       "0                                        NaN  \n",
       "1       Amazon PLCC Free-Financing Universal  \n",
       "2                      IN Core Free Shipping  \n",
       "3                                        NaN  \n",
       "4                                        NaN  \n",
       "...                                      ...  \n",
       "128970                                   NaN  \n",
       "128971                 IN Core Free Shipping  \n",
       "128972                                   NaN  \n",
       "128973                 IN Core Free Shipping  \n",
       "128974                 IN Core Free Shipping  \n",
       "\n",
       "[128975 rows x 16 columns]"
      ]
     },
     "execution_count": 26,
     "metadata": {},
     "output_type": "execute_result"
    }
   ],
   "source": [
    "# Dropping unnecesarry columns\n",
    "df.drop(columns = cols_to_drop, inplace=True)\n",
    "df"
   ]
  },
  {
   "cell_type": "code",
   "execution_count": 27,
   "metadata": {},
   "outputs": [
    {
     "data": {
      "text/html": [
       "<div>\n",
       "<style scoped>\n",
       "    .dataframe tbody tr th:only-of-type {\n",
       "        vertical-align: middle;\n",
       "    }\n",
       "\n",
       "    .dataframe tbody tr th {\n",
       "        vertical-align: top;\n",
       "    }\n",
       "\n",
       "    .dataframe thead th {\n",
       "        text-align: right;\n",
       "    }\n",
       "</style>\n",
       "<table border=\"1\" class=\"dataframe\">\n",
       "  <thead>\n",
       "    <tr style=\"text-align: right;\">\n",
       "      <th></th>\n",
       "      <th>Columns</th>\n",
       "      <th>Unique Values</th>\n",
       "    </tr>\n",
       "  </thead>\n",
       "  <tbody>\n",
       "    <tr>\n",
       "      <th>0</th>\n",
       "      <td>status</td>\n",
       "      <td>13</td>\n",
       "    </tr>\n",
       "    <tr>\n",
       "      <th>1</th>\n",
       "      <td>fulfilment</td>\n",
       "      <td>2</td>\n",
       "    </tr>\n",
       "    <tr>\n",
       "      <th>2</th>\n",
       "      <td>ship_service_level</td>\n",
       "      <td>2</td>\n",
       "    </tr>\n",
       "    <tr>\n",
       "      <th>3</th>\n",
       "      <td>category</td>\n",
       "      <td>9</td>\n",
       "    </tr>\n",
       "    <tr>\n",
       "      <th>4</th>\n",
       "      <td>size</td>\n",
       "      <td>11</td>\n",
       "    </tr>\n",
       "    <tr>\n",
       "      <th>5</th>\n",
       "      <td>courier_status</td>\n",
       "      <td>3</td>\n",
       "    </tr>\n",
       "    <tr>\n",
       "      <th>6</th>\n",
       "      <td>ship_city</td>\n",
       "      <td>7297</td>\n",
       "    </tr>\n",
       "    <tr>\n",
       "      <th>7</th>\n",
       "      <td>ship_state</td>\n",
       "      <td>37</td>\n",
       "    </tr>\n",
       "    <tr>\n",
       "      <th>8</th>\n",
       "      <td>ship_postal_code</td>\n",
       "      <td>9459</td>\n",
       "    </tr>\n",
       "    <tr>\n",
       "      <th>9</th>\n",
       "      <td>style_code</td>\n",
       "      <td>14</td>\n",
       "    </tr>\n",
       "    <tr>\n",
       "      <th>10</th>\n",
       "      <td>style_category</td>\n",
       "      <td>24</td>\n",
       "    </tr>\n",
       "    <tr>\n",
       "      <th>11</th>\n",
       "      <td>promotions</td>\n",
       "      <td>5</td>\n",
       "    </tr>\n",
       "  </tbody>\n",
       "</table>\n",
       "</div>"
      ],
      "text/plain": [
       "               Columns  Unique Values\n",
       "0               status             13\n",
       "1           fulfilment              2\n",
       "2   ship_service_level              2\n",
       "3             category              9\n",
       "4                 size             11\n",
       "5       courier_status              3\n",
       "6            ship_city           7297\n",
       "7           ship_state             37\n",
       "8     ship_postal_code           9459\n",
       "9           style_code             14\n",
       "10      style_category             24\n",
       "11          promotions              5"
      ]
     },
     "execution_count": 27,
     "metadata": {},
     "output_type": "execute_result"
    }
   ],
   "source": [
    "# Filtering columns with dtype='object'.\n",
    "object_columns = list(df.select_dtypes(include=['object']).columns)\n",
    "\n",
    "# counting the unique values for each columns within filtered columns, returning the results in a new DataFrame.\n",
    "unique_object_counts = []\n",
    "for i in object_columns:\n",
    "    unique_object_counts.append([i, df[i].nunique()])\n",
    "    \n",
    "unique_object_counts = pd.DataFrame(unique_object_counts, columns=['Columns', 'Unique Values'])\n",
    "unique_object_counts"
   ]
  },
  {
   "cell_type": "markdown",
   "metadata": {},
   "source": [
    "## Dealing with missing values.\n",
    "___________________________________________________________________________________________________________________________"
   ]
  },
  {
   "cell_type": "code",
   "execution_count": 28,
   "metadata": {},
   "outputs": [],
   "source": [
    "# In column 'no_promotions' replacing values where promotion code aren't mentioned with no_promotions.\n",
    "df['promotions'] = df['promotions'].fillna('no_promotions')"
   ]
  },
  {
   "cell_type": "code",
   "execution_count": 29,
   "metadata": {
    "scrolled": true
   },
   "outputs": [
    {
     "data": {
      "text/plain": [
       "Cancelled    6861\n",
       "Delivered       8\n",
       "Returned        3\n",
       "Name: status, dtype: int64"
      ]
     },
     "execution_count": 29,
     "metadata": {},
     "output_type": "execute_result"
    }
   ],
   "source": [
    "# Filter rows where 'courier_status' is NaN and counting unique values in the 'status' column.\n",
    "df[pd.isna(df['courier_status'])]['status'].value_counts()"
   ]
  },
  {
   "cell_type": "code",
   "execution_count": 30,
   "metadata": {},
   "outputs": [],
   "source": [
    "def replace_courier_status(data):\n",
    "    \"\"\"\n",
    "    Replace 'courier_status' based on conditions.\n",
    "\n",
    "    This function takes a row of data as input and replaces the 'courier_status' based on specific conditions:\n",
    "    - If 'courier_status' is NaN and 'status' is 'Cancelled', it returns 'Cancelled'.\n",
    "    - If 'courier_status' is NaN and 'status' is 'Delivered' or 'Returned', it returns 'Shipped'.\n",
    "    - Otherwise, it returns the original 'courier_status'.\n",
    "    \"\"\"\n",
    "    \n",
    "    if pd.isna(data['courier_status']) and data['status'] == 'Cancelled':\n",
    "        return 'Cancelled'\n",
    "    elif pd.isna(data['courier_status']) and data['status'] in ['Delivered', 'Returned']:\n",
    "        return 'Shipped'\n",
    "    else:\n",
    "        return data['courier_status']\n",
    "\n",
    "# Applying the 'replace_courier_status' function to update 'courier_status'\n",
    "df['courier_status'] = df.apply(replace_courier_status, axis=1)"
   ]
  },
  {
   "cell_type": "code",
   "execution_count": 31,
   "metadata": {},
   "outputs": [
    {
     "data": {
      "text/plain": [
       "Shipped      109498\n",
       "Cancelled     12796\n",
       "Unshipped      6681\n",
       "Name: courier_status, dtype: int64"
      ]
     },
     "execution_count": 31,
     "metadata": {},
     "output_type": "execute_result"
    }
   ],
   "source": [
    "# Counting unique values in 'courier_status' column.\n",
    "df['courier_status'].value_counts()"
   ]
  },
  {
   "cell_type": "code",
   "execution_count": 32,
   "metadata": {},
   "outputs": [
    {
     "data": {
      "text/plain": [
       "date                  0.000000\n",
       "status                0.000000\n",
       "fulfilment            0.000000\n",
       "ship_service_level    0.000000\n",
       "category              0.000000\n",
       "size                  0.000000\n",
       "courier_status        0.000000\n",
       "qty                   0.000000\n",
       "amount                6.043807\n",
       "ship_city             0.025586\n",
       "ship_state            0.025586\n",
       "ship_postal_code      0.025586\n",
       "b2b                   0.000000\n",
       "style_code            0.000000\n",
       "style_category        0.000000\n",
       "promotions            0.000000\n",
       "dtype: float64"
      ]
     },
     "execution_count": 32,
     "metadata": {},
     "output_type": "execute_result"
    }
   ],
   "source": [
    "# Viewing percentage of null values in each columns.\n",
    "((df.isnull().sum()) / len(df)) * 100"
   ]
  },
  {
   "cell_type": "code",
   "execution_count": 33,
   "metadata": {},
   "outputs": [
    {
     "data": {
      "text/html": [
       "<div>\n",
       "<style scoped>\n",
       "    .dataframe tbody tr th:only-of-type {\n",
       "        vertical-align: middle;\n",
       "    }\n",
       "\n",
       "    .dataframe tbody tr th {\n",
       "        vertical-align: top;\n",
       "    }\n",
       "\n",
       "    .dataframe thead th {\n",
       "        text-align: right;\n",
       "    }\n",
       "</style>\n",
       "<table border=\"1\" class=\"dataframe\">\n",
       "  <thead>\n",
       "    <tr style=\"text-align: right;\">\n",
       "      <th></th>\n",
       "      <th>date</th>\n",
       "      <th>status</th>\n",
       "      <th>fulfilment</th>\n",
       "      <th>ship_service_level</th>\n",
       "      <th>category</th>\n",
       "      <th>size</th>\n",
       "      <th>courier_status</th>\n",
       "      <th>qty</th>\n",
       "      <th>amount</th>\n",
       "      <th>ship_city</th>\n",
       "      <th>ship_state</th>\n",
       "      <th>ship_postal_code</th>\n",
       "      <th>b2b</th>\n",
       "      <th>style_code</th>\n",
       "      <th>style_category</th>\n",
       "      <th>promotions</th>\n",
       "    </tr>\n",
       "  </thead>\n",
       "  <tbody>\n",
       "    <tr>\n",
       "      <th>0</th>\n",
       "      <td>2022-04-30</td>\n",
       "      <td>Cancelled</td>\n",
       "      <td>Merchant</td>\n",
       "      <td>Standard</td>\n",
       "      <td>Set</td>\n",
       "      <td>S</td>\n",
       "      <td>Cancelled</td>\n",
       "      <td>0</td>\n",
       "      <td>647.62</td>\n",
       "      <td>Mumbai</td>\n",
       "      <td>Maharashtra</td>\n",
       "      <td>400081</td>\n",
       "      <td>False</td>\n",
       "      <td>SET</td>\n",
       "      <td>Set_SET</td>\n",
       "      <td>no_promotions</td>\n",
       "    </tr>\n",
       "    <tr>\n",
       "      <th>1</th>\n",
       "      <td>2022-04-30</td>\n",
       "      <td>Delivered</td>\n",
       "      <td>Merchant</td>\n",
       "      <td>Standard</td>\n",
       "      <td>kurta</td>\n",
       "      <td>3XL</td>\n",
       "      <td>Shipped</td>\n",
       "      <td>1</td>\n",
       "      <td>406.00</td>\n",
       "      <td>Bengaluru</td>\n",
       "      <td>Karnataka</td>\n",
       "      <td>560085</td>\n",
       "      <td>False</td>\n",
       "      <td>JNE</td>\n",
       "      <td>kurta_JNE</td>\n",
       "      <td>Amazon PLCC Free-Financing Universal</td>\n",
       "    </tr>\n",
       "    <tr>\n",
       "      <th>2</th>\n",
       "      <td>2022-04-30</td>\n",
       "      <td>In_transit</td>\n",
       "      <td>Amazon</td>\n",
       "      <td>Expedited</td>\n",
       "      <td>kurta</td>\n",
       "      <td>XL</td>\n",
       "      <td>Shipped</td>\n",
       "      <td>1</td>\n",
       "      <td>329.00</td>\n",
       "      <td>Navi Mumbai</td>\n",
       "      <td>Maharashtra</td>\n",
       "      <td>410210</td>\n",
       "      <td>True</td>\n",
       "      <td>JNE</td>\n",
       "      <td>kurta_JNE</td>\n",
       "      <td>IN Core Free Shipping</td>\n",
       "    </tr>\n",
       "    <tr>\n",
       "      <th>3</th>\n",
       "      <td>2022-04-30</td>\n",
       "      <td>Cancelled</td>\n",
       "      <td>Merchant</td>\n",
       "      <td>Standard</td>\n",
       "      <td>Western Dress</td>\n",
       "      <td>L</td>\n",
       "      <td>Cancelled</td>\n",
       "      <td>0</td>\n",
       "      <td>753.33</td>\n",
       "      <td>Puducherry</td>\n",
       "      <td>Puducherry</td>\n",
       "      <td>605008</td>\n",
       "      <td>False</td>\n",
       "      <td>J</td>\n",
       "      <td>Western Dress_J</td>\n",
       "      <td>no_promotions</td>\n",
       "    </tr>\n",
       "    <tr>\n",
       "      <th>4</th>\n",
       "      <td>2022-04-30</td>\n",
       "      <td>In_transit</td>\n",
       "      <td>Amazon</td>\n",
       "      <td>Expedited</td>\n",
       "      <td>Top</td>\n",
       "      <td>3XL</td>\n",
       "      <td>Shipped</td>\n",
       "      <td>1</td>\n",
       "      <td>574.00</td>\n",
       "      <td>Chennai</td>\n",
       "      <td>Tamil Nadu</td>\n",
       "      <td>600073</td>\n",
       "      <td>False</td>\n",
       "      <td>JNE</td>\n",
       "      <td>Top_JNE</td>\n",
       "      <td>no_promotions</td>\n",
       "    </tr>\n",
       "    <tr>\n",
       "      <th>...</th>\n",
       "      <td>...</td>\n",
       "      <td>...</td>\n",
       "      <td>...</td>\n",
       "      <td>...</td>\n",
       "      <td>...</td>\n",
       "      <td>...</td>\n",
       "      <td>...</td>\n",
       "      <td>...</td>\n",
       "      <td>...</td>\n",
       "      <td>...</td>\n",
       "      <td>...</td>\n",
       "      <td>...</td>\n",
       "      <td>...</td>\n",
       "      <td>...</td>\n",
       "      <td>...</td>\n",
       "      <td>...</td>\n",
       "    </tr>\n",
       "    <tr>\n",
       "      <th>128970</th>\n",
       "      <td>2022-05-31</td>\n",
       "      <td>In_transit</td>\n",
       "      <td>Amazon</td>\n",
       "      <td>Expedited</td>\n",
       "      <td>kurta</td>\n",
       "      <td>XL</td>\n",
       "      <td>Shipped</td>\n",
       "      <td>1</td>\n",
       "      <td>517.00</td>\n",
       "      <td>Hyderabad</td>\n",
       "      <td>Telangana</td>\n",
       "      <td>500013</td>\n",
       "      <td>False</td>\n",
       "      <td>JNE</td>\n",
       "      <td>kurta_JNE</td>\n",
       "      <td>no_promotions</td>\n",
       "    </tr>\n",
       "    <tr>\n",
       "      <th>128971</th>\n",
       "      <td>2022-05-31</td>\n",
       "      <td>In_transit</td>\n",
       "      <td>Amazon</td>\n",
       "      <td>Expedited</td>\n",
       "      <td>Set</td>\n",
       "      <td>M</td>\n",
       "      <td>Shipped</td>\n",
       "      <td>1</td>\n",
       "      <td>999.00</td>\n",
       "      <td>Gurugram</td>\n",
       "      <td>Haryana</td>\n",
       "      <td>122004</td>\n",
       "      <td>False</td>\n",
       "      <td>SET</td>\n",
       "      <td>Set_SET</td>\n",
       "      <td>IN Core Free Shipping</td>\n",
       "    </tr>\n",
       "    <tr>\n",
       "      <th>128972</th>\n",
       "      <td>2022-05-31</td>\n",
       "      <td>In_transit</td>\n",
       "      <td>Amazon</td>\n",
       "      <td>Expedited</td>\n",
       "      <td>Western Dress</td>\n",
       "      <td>XXL</td>\n",
       "      <td>Shipped</td>\n",
       "      <td>1</td>\n",
       "      <td>690.00</td>\n",
       "      <td>Hyderabad</td>\n",
       "      <td>Telangana</td>\n",
       "      <td>500049</td>\n",
       "      <td>False</td>\n",
       "      <td>J</td>\n",
       "      <td>Western Dress_J</td>\n",
       "      <td>no_promotions</td>\n",
       "    </tr>\n",
       "    <tr>\n",
       "      <th>128973</th>\n",
       "      <td>2022-05-31</td>\n",
       "      <td>In_transit</td>\n",
       "      <td>Amazon</td>\n",
       "      <td>Expedited</td>\n",
       "      <td>Set</td>\n",
       "      <td>XS</td>\n",
       "      <td>Shipped</td>\n",
       "      <td>1</td>\n",
       "      <td>1199.00</td>\n",
       "      <td>Halol</td>\n",
       "      <td>Gujarat</td>\n",
       "      <td>389350</td>\n",
       "      <td>False</td>\n",
       "      <td>J</td>\n",
       "      <td>Set_J</td>\n",
       "      <td>IN Core Free Shipping</td>\n",
       "    </tr>\n",
       "    <tr>\n",
       "      <th>128974</th>\n",
       "      <td>2022-05-31</td>\n",
       "      <td>In_transit</td>\n",
       "      <td>Amazon</td>\n",
       "      <td>Expedited</td>\n",
       "      <td>Set</td>\n",
       "      <td>S</td>\n",
       "      <td>Shipped</td>\n",
       "      <td>1</td>\n",
       "      <td>696.00</td>\n",
       "      <td>Raipur</td>\n",
       "      <td>Chhattisgarh</td>\n",
       "      <td>492014</td>\n",
       "      <td>False</td>\n",
       "      <td>J</td>\n",
       "      <td>Set_J</td>\n",
       "      <td>IN Core Free Shipping</td>\n",
       "    </tr>\n",
       "  </tbody>\n",
       "</table>\n",
       "<p>121149 rows × 16 columns</p>\n",
       "</div>"
      ],
      "text/plain": [
       "             date      status fulfilment ship_service_level       category  \\\n",
       "0      2022-04-30   Cancelled   Merchant           Standard            Set   \n",
       "1      2022-04-30   Delivered   Merchant           Standard          kurta   \n",
       "2      2022-04-30  In_transit     Amazon          Expedited          kurta   \n",
       "3      2022-04-30   Cancelled   Merchant           Standard  Western Dress   \n",
       "4      2022-04-30  In_transit     Amazon          Expedited            Top   \n",
       "...           ...         ...        ...                ...            ...   \n",
       "128970 2022-05-31  In_transit     Amazon          Expedited          kurta   \n",
       "128971 2022-05-31  In_transit     Amazon          Expedited            Set   \n",
       "128972 2022-05-31  In_transit     Amazon          Expedited  Western Dress   \n",
       "128973 2022-05-31  In_transit     Amazon          Expedited            Set   \n",
       "128974 2022-05-31  In_transit     Amazon          Expedited            Set   \n",
       "\n",
       "       size courier_status  qty   amount    ship_city    ship_state  \\\n",
       "0         S      Cancelled    0   647.62       Mumbai   Maharashtra   \n",
       "1       3XL        Shipped    1   406.00    Bengaluru     Karnataka   \n",
       "2        XL        Shipped    1   329.00  Navi Mumbai   Maharashtra   \n",
       "3         L      Cancelled    0   753.33   Puducherry    Puducherry   \n",
       "4       3XL        Shipped    1   574.00      Chennai    Tamil Nadu   \n",
       "...     ...            ...  ...      ...          ...           ...   \n",
       "128970   XL        Shipped    1   517.00    Hyderabad     Telangana   \n",
       "128971    M        Shipped    1   999.00     Gurugram       Haryana   \n",
       "128972  XXL        Shipped    1   690.00    Hyderabad     Telangana   \n",
       "128973   XS        Shipped    1  1199.00        Halol       Gujarat   \n",
       "128974    S        Shipped    1   696.00       Raipur  Chhattisgarh   \n",
       "\n",
       "       ship_postal_code    b2b style_code   style_category  \\\n",
       "0                400081  False        SET          Set_SET   \n",
       "1                560085  False        JNE        kurta_JNE   \n",
       "2                410210   True        JNE        kurta_JNE   \n",
       "3                605008  False          J  Western Dress_J   \n",
       "4                600073  False        JNE          Top_JNE   \n",
       "...                 ...    ...        ...              ...   \n",
       "128970           500013  False        JNE        kurta_JNE   \n",
       "128971           122004  False        SET          Set_SET   \n",
       "128972           500049  False          J  Western Dress_J   \n",
       "128973           389350  False          J            Set_J   \n",
       "128974           492014  False          J            Set_J   \n",
       "\n",
       "                                  promotions  \n",
       "0                              no_promotions  \n",
       "1       Amazon PLCC Free-Financing Universal  \n",
       "2                      IN Core Free Shipping  \n",
       "3                              no_promotions  \n",
       "4                              no_promotions  \n",
       "...                                      ...  \n",
       "128970                         no_promotions  \n",
       "128971                 IN Core Free Shipping  \n",
       "128972                         no_promotions  \n",
       "128973                 IN Core Free Shipping  \n",
       "128974                 IN Core Free Shipping  \n",
       "\n",
       "[121149 rows x 16 columns]"
      ]
     },
     "execution_count": 33,
     "metadata": {},
     "output_type": "execute_result"
    }
   ],
   "source": [
    "# Dropping rows with missing values.\n",
    "df = df.dropna()\n",
    "df"
   ]
  },
  {
   "cell_type": "code",
   "execution_count": 34,
   "metadata": {
    "scrolled": false
   },
   "outputs": [
    {
     "data": {
      "text/plain": [
       "1    115637\n",
       "0      5133\n",
       "2       337\n",
       "3        31\n",
       "4         8\n",
       "5         2\n",
       "8         1\n",
       "Name: qty, dtype: int64"
      ]
     },
     "execution_count": 34,
     "metadata": {},
     "output_type": "execute_result"
    }
   ],
   "source": [
    "# Understanding bulk-ordering behaviour.\n",
    "df['qty'].value_counts()"
   ]
  },
  {
   "cell_type": "code",
   "execution_count": 35,
   "metadata": {
    "scrolled": false
   },
   "outputs": [
    {
     "data": {
      "text/plain": [
       "Cancelled    5133\n",
       "Name: status, dtype: int64"
      ]
     },
     "execution_count": 35,
     "metadata": {},
     "output_type": "execute_result"
    }
   ],
   "source": [
    "# Filtering 'status' column when qty is 0.\n",
    "df[df['qty'] == 0]['status'].value_counts()"
   ]
  },
  {
   "cell_type": "markdown",
   "metadata": {},
   "source": [
    "> __Clearly orders that are cancelled, are flagged as 0 in quantity.__"
   ]
  },
  {
   "cell_type": "code",
   "execution_count": 36,
   "metadata": {},
   "outputs": [
    {
     "name": "stdout",
     "output_type": "stream",
     "text": [
      " 1    107943\n",
      "-1      7694\n",
      " 0      5133\n",
      " 2       301\n",
      "-2        36\n",
      " 3        25\n",
      " 4         7\n",
      "-3         6\n",
      " 5         2\n",
      "-4         1\n",
      " 8         1\n",
      "Name: qty, dtype: int64\n"
     ]
    }
   ],
   "source": [
    "def update_quantity(data):\n",
    "    \"\"\"\n",
    "    Updates 'qty' based on status and conditions.\n",
    "    This function takes a row of data as input and updates the 'qty' column based on specific conditions\n",
    "    \"\"\"\n",
    "    \n",
    "    if (data['status'] == 'Cancelled') and (data['qty'] == 0):\n",
    "        return 0\n",
    "    elif data['status'] in ['Cancelled', 'Returned', 'Returning_to_seller', 'Rejected', 'Lost_in_transit', 'Damaged']:\n",
    "        return data['qty'] * -1\n",
    "    else:\n",
    "        return data['qty']\n",
    "\n",
    "    \n",
    "# Applying the 'update_quantity' function to update 'qty' column.\n",
    "df['qty'] = df.apply(update_quantity, axis=1)\n",
    "\n",
    "# Count and print the unique values in the 'qty' column.\n",
    "print(df['qty'].value_counts())"
   ]
  },
  {
   "cell_type": "code",
   "execution_count": 37,
   "metadata": {},
   "outputs": [],
   "source": [
    "# Adding a new column 'total_price' by multiplying 'qty' column and 'amount' column.\n",
    "df['total_price'] = df.apply(lambda x: x['qty'] * x['amount'], axis = 1)"
   ]
  },
  {
   "cell_type": "markdown",
   "metadata": {},
   "source": [
    "## Exploring Cleaned Dataset \n",
    "___________________________________________________________________________________________________________________________"
   ]
  },
  {
   "cell_type": "code",
   "execution_count": 38,
   "metadata": {},
   "outputs": [
    {
     "data": {
      "text/html": [
       "<div>\n",
       "<style scoped>\n",
       "    .dataframe tbody tr th:only-of-type {\n",
       "        vertical-align: middle;\n",
       "    }\n",
       "\n",
       "    .dataframe tbody tr th {\n",
       "        vertical-align: top;\n",
       "    }\n",
       "\n",
       "    .dataframe thead th {\n",
       "        text-align: right;\n",
       "    }\n",
       "</style>\n",
       "<table border=\"1\" class=\"dataframe\">\n",
       "  <thead>\n",
       "    <tr style=\"text-align: right;\">\n",
       "      <th></th>\n",
       "      <th>date</th>\n",
       "      <th>status</th>\n",
       "      <th>fulfilment</th>\n",
       "      <th>ship_service_level</th>\n",
       "      <th>category</th>\n",
       "      <th>size</th>\n",
       "      <th>courier_status</th>\n",
       "      <th>qty</th>\n",
       "      <th>amount</th>\n",
       "      <th>ship_city</th>\n",
       "      <th>ship_state</th>\n",
       "      <th>ship_postal_code</th>\n",
       "      <th>b2b</th>\n",
       "      <th>style_code</th>\n",
       "      <th>style_category</th>\n",
       "      <th>promotions</th>\n",
       "      <th>total_price</th>\n",
       "    </tr>\n",
       "  </thead>\n",
       "  <tbody>\n",
       "    <tr>\n",
       "      <th>0</th>\n",
       "      <td>2022-04-30</td>\n",
       "      <td>Cancelled</td>\n",
       "      <td>Merchant</td>\n",
       "      <td>Standard</td>\n",
       "      <td>Set</td>\n",
       "      <td>S</td>\n",
       "      <td>Cancelled</td>\n",
       "      <td>0</td>\n",
       "      <td>647.62</td>\n",
       "      <td>Mumbai</td>\n",
       "      <td>Maharashtra</td>\n",
       "      <td>400081</td>\n",
       "      <td>False</td>\n",
       "      <td>SET</td>\n",
       "      <td>Set_SET</td>\n",
       "      <td>no_promotions</td>\n",
       "      <td>0.0</td>\n",
       "    </tr>\n",
       "    <tr>\n",
       "      <th>1</th>\n",
       "      <td>2022-04-30</td>\n",
       "      <td>Delivered</td>\n",
       "      <td>Merchant</td>\n",
       "      <td>Standard</td>\n",
       "      <td>kurta</td>\n",
       "      <td>3XL</td>\n",
       "      <td>Shipped</td>\n",
       "      <td>1</td>\n",
       "      <td>406.00</td>\n",
       "      <td>Bengaluru</td>\n",
       "      <td>Karnataka</td>\n",
       "      <td>560085</td>\n",
       "      <td>False</td>\n",
       "      <td>JNE</td>\n",
       "      <td>kurta_JNE</td>\n",
       "      <td>Amazon PLCC Free-Financing Universal</td>\n",
       "      <td>406.0</td>\n",
       "    </tr>\n",
       "    <tr>\n",
       "      <th>2</th>\n",
       "      <td>2022-04-30</td>\n",
       "      <td>In_transit</td>\n",
       "      <td>Amazon</td>\n",
       "      <td>Expedited</td>\n",
       "      <td>kurta</td>\n",
       "      <td>XL</td>\n",
       "      <td>Shipped</td>\n",
       "      <td>1</td>\n",
       "      <td>329.00</td>\n",
       "      <td>Navi Mumbai</td>\n",
       "      <td>Maharashtra</td>\n",
       "      <td>410210</td>\n",
       "      <td>True</td>\n",
       "      <td>JNE</td>\n",
       "      <td>kurta_JNE</td>\n",
       "      <td>IN Core Free Shipping</td>\n",
       "      <td>329.0</td>\n",
       "    </tr>\n",
       "    <tr>\n",
       "      <th>3</th>\n",
       "      <td>2022-04-30</td>\n",
       "      <td>Cancelled</td>\n",
       "      <td>Merchant</td>\n",
       "      <td>Standard</td>\n",
       "      <td>Western Dress</td>\n",
       "      <td>L</td>\n",
       "      <td>Cancelled</td>\n",
       "      <td>0</td>\n",
       "      <td>753.33</td>\n",
       "      <td>Puducherry</td>\n",
       "      <td>Puducherry</td>\n",
       "      <td>605008</td>\n",
       "      <td>False</td>\n",
       "      <td>J</td>\n",
       "      <td>Western Dress_J</td>\n",
       "      <td>no_promotions</td>\n",
       "      <td>0.0</td>\n",
       "    </tr>\n",
       "    <tr>\n",
       "      <th>4</th>\n",
       "      <td>2022-04-30</td>\n",
       "      <td>In_transit</td>\n",
       "      <td>Amazon</td>\n",
       "      <td>Expedited</td>\n",
       "      <td>Top</td>\n",
       "      <td>3XL</td>\n",
       "      <td>Shipped</td>\n",
       "      <td>1</td>\n",
       "      <td>574.00</td>\n",
       "      <td>Chennai</td>\n",
       "      <td>Tamil Nadu</td>\n",
       "      <td>600073</td>\n",
       "      <td>False</td>\n",
       "      <td>JNE</td>\n",
       "      <td>Top_JNE</td>\n",
       "      <td>no_promotions</td>\n",
       "      <td>574.0</td>\n",
       "    </tr>\n",
       "    <tr>\n",
       "      <th>...</th>\n",
       "      <td>...</td>\n",
       "      <td>...</td>\n",
       "      <td>...</td>\n",
       "      <td>...</td>\n",
       "      <td>...</td>\n",
       "      <td>...</td>\n",
       "      <td>...</td>\n",
       "      <td>...</td>\n",
       "      <td>...</td>\n",
       "      <td>...</td>\n",
       "      <td>...</td>\n",
       "      <td>...</td>\n",
       "      <td>...</td>\n",
       "      <td>...</td>\n",
       "      <td>...</td>\n",
       "      <td>...</td>\n",
       "      <td>...</td>\n",
       "    </tr>\n",
       "    <tr>\n",
       "      <th>121144</th>\n",
       "      <td>2022-05-31</td>\n",
       "      <td>In_transit</td>\n",
       "      <td>Amazon</td>\n",
       "      <td>Expedited</td>\n",
       "      <td>kurta</td>\n",
       "      <td>XL</td>\n",
       "      <td>Shipped</td>\n",
       "      <td>1</td>\n",
       "      <td>517.00</td>\n",
       "      <td>Hyderabad</td>\n",
       "      <td>Telangana</td>\n",
       "      <td>500013</td>\n",
       "      <td>False</td>\n",
       "      <td>JNE</td>\n",
       "      <td>kurta_JNE</td>\n",
       "      <td>no_promotions</td>\n",
       "      <td>517.0</td>\n",
       "    </tr>\n",
       "    <tr>\n",
       "      <th>121145</th>\n",
       "      <td>2022-05-31</td>\n",
       "      <td>In_transit</td>\n",
       "      <td>Amazon</td>\n",
       "      <td>Expedited</td>\n",
       "      <td>Set</td>\n",
       "      <td>M</td>\n",
       "      <td>Shipped</td>\n",
       "      <td>1</td>\n",
       "      <td>999.00</td>\n",
       "      <td>Gurugram</td>\n",
       "      <td>Haryana</td>\n",
       "      <td>122004</td>\n",
       "      <td>False</td>\n",
       "      <td>SET</td>\n",
       "      <td>Set_SET</td>\n",
       "      <td>IN Core Free Shipping</td>\n",
       "      <td>999.0</td>\n",
       "    </tr>\n",
       "    <tr>\n",
       "      <th>121146</th>\n",
       "      <td>2022-05-31</td>\n",
       "      <td>In_transit</td>\n",
       "      <td>Amazon</td>\n",
       "      <td>Expedited</td>\n",
       "      <td>Western Dress</td>\n",
       "      <td>XXL</td>\n",
       "      <td>Shipped</td>\n",
       "      <td>1</td>\n",
       "      <td>690.00</td>\n",
       "      <td>Hyderabad</td>\n",
       "      <td>Telangana</td>\n",
       "      <td>500049</td>\n",
       "      <td>False</td>\n",
       "      <td>J</td>\n",
       "      <td>Western Dress_J</td>\n",
       "      <td>no_promotions</td>\n",
       "      <td>690.0</td>\n",
       "    </tr>\n",
       "    <tr>\n",
       "      <th>121147</th>\n",
       "      <td>2022-05-31</td>\n",
       "      <td>In_transit</td>\n",
       "      <td>Amazon</td>\n",
       "      <td>Expedited</td>\n",
       "      <td>Set</td>\n",
       "      <td>XS</td>\n",
       "      <td>Shipped</td>\n",
       "      <td>1</td>\n",
       "      <td>1199.00</td>\n",
       "      <td>Halol</td>\n",
       "      <td>Gujarat</td>\n",
       "      <td>389350</td>\n",
       "      <td>False</td>\n",
       "      <td>J</td>\n",
       "      <td>Set_J</td>\n",
       "      <td>IN Core Free Shipping</td>\n",
       "      <td>1199.0</td>\n",
       "    </tr>\n",
       "    <tr>\n",
       "      <th>121148</th>\n",
       "      <td>2022-05-31</td>\n",
       "      <td>In_transit</td>\n",
       "      <td>Amazon</td>\n",
       "      <td>Expedited</td>\n",
       "      <td>Set</td>\n",
       "      <td>S</td>\n",
       "      <td>Shipped</td>\n",
       "      <td>1</td>\n",
       "      <td>696.00</td>\n",
       "      <td>Raipur</td>\n",
       "      <td>Chhattisgarh</td>\n",
       "      <td>492014</td>\n",
       "      <td>False</td>\n",
       "      <td>J</td>\n",
       "      <td>Set_J</td>\n",
       "      <td>IN Core Free Shipping</td>\n",
       "      <td>696.0</td>\n",
       "    </tr>\n",
       "  </tbody>\n",
       "</table>\n",
       "<p>121149 rows × 17 columns</p>\n",
       "</div>"
      ],
      "text/plain": [
       "             date      status fulfilment ship_service_level       category  \\\n",
       "0      2022-04-30   Cancelled   Merchant           Standard            Set   \n",
       "1      2022-04-30   Delivered   Merchant           Standard          kurta   \n",
       "2      2022-04-30  In_transit     Amazon          Expedited          kurta   \n",
       "3      2022-04-30   Cancelled   Merchant           Standard  Western Dress   \n",
       "4      2022-04-30  In_transit     Amazon          Expedited            Top   \n",
       "...           ...         ...        ...                ...            ...   \n",
       "121144 2022-05-31  In_transit     Amazon          Expedited          kurta   \n",
       "121145 2022-05-31  In_transit     Amazon          Expedited            Set   \n",
       "121146 2022-05-31  In_transit     Amazon          Expedited  Western Dress   \n",
       "121147 2022-05-31  In_transit     Amazon          Expedited            Set   \n",
       "121148 2022-05-31  In_transit     Amazon          Expedited            Set   \n",
       "\n",
       "       size courier_status  qty   amount    ship_city    ship_state  \\\n",
       "0         S      Cancelled    0   647.62       Mumbai   Maharashtra   \n",
       "1       3XL        Shipped    1   406.00    Bengaluru     Karnataka   \n",
       "2        XL        Shipped    1   329.00  Navi Mumbai   Maharashtra   \n",
       "3         L      Cancelled    0   753.33   Puducherry    Puducherry   \n",
       "4       3XL        Shipped    1   574.00      Chennai    Tamil Nadu   \n",
       "...     ...            ...  ...      ...          ...           ...   \n",
       "121144   XL        Shipped    1   517.00    Hyderabad     Telangana   \n",
       "121145    M        Shipped    1   999.00     Gurugram       Haryana   \n",
       "121146  XXL        Shipped    1   690.00    Hyderabad     Telangana   \n",
       "121147   XS        Shipped    1  1199.00        Halol       Gujarat   \n",
       "121148    S        Shipped    1   696.00       Raipur  Chhattisgarh   \n",
       "\n",
       "       ship_postal_code    b2b style_code   style_category  \\\n",
       "0                400081  False        SET          Set_SET   \n",
       "1                560085  False        JNE        kurta_JNE   \n",
       "2                410210   True        JNE        kurta_JNE   \n",
       "3                605008  False          J  Western Dress_J   \n",
       "4                600073  False        JNE          Top_JNE   \n",
       "...                 ...    ...        ...              ...   \n",
       "121144           500013  False        JNE        kurta_JNE   \n",
       "121145           122004  False        SET          Set_SET   \n",
       "121146           500049  False          J  Western Dress_J   \n",
       "121147           389350  False          J            Set_J   \n",
       "121148           492014  False          J            Set_J   \n",
       "\n",
       "                                  promotions  total_price  \n",
       "0                              no_promotions          0.0  \n",
       "1       Amazon PLCC Free-Financing Universal        406.0  \n",
       "2                      IN Core Free Shipping        329.0  \n",
       "3                              no_promotions          0.0  \n",
       "4                              no_promotions        574.0  \n",
       "...                                      ...          ...  \n",
       "121144                         no_promotions        517.0  \n",
       "121145                 IN Core Free Shipping        999.0  \n",
       "121146                         no_promotions        690.0  \n",
       "121147                 IN Core Free Shipping       1199.0  \n",
       "121148                 IN Core Free Shipping        696.0  \n",
       "\n",
       "[121149 rows x 17 columns]"
      ]
     },
     "execution_count": 38,
     "metadata": {},
     "output_type": "execute_result"
    }
   ],
   "source": [
    "df.reset_index(inplace=True, drop=True)\n",
    "df"
   ]
  },
  {
   "cell_type": "code",
   "execution_count": 39,
   "metadata": {},
   "outputs": [
    {
     "name": "stdout",
     "output_type": "stream",
     "text": [
      "<class 'pandas.core.frame.DataFrame'>\n",
      "RangeIndex: 121149 entries, 0 to 121148\n",
      "Data columns (total 17 columns):\n",
      " #   Column              Non-Null Count   Dtype         \n",
      "---  ------              --------------   -----         \n",
      " 0   date                121149 non-null  datetime64[ns]\n",
      " 1   status              121149 non-null  object        \n",
      " 2   fulfilment          121149 non-null  object        \n",
      " 3   ship_service_level  121149 non-null  object        \n",
      " 4   category            121149 non-null  object        \n",
      " 5   size                121149 non-null  object        \n",
      " 6   courier_status      121149 non-null  object        \n",
      " 7   qty                 121149 non-null  int64         \n",
      " 8   amount              121149 non-null  float64       \n",
      " 9   ship_city           121149 non-null  object        \n",
      " 10  ship_state          121149 non-null  object        \n",
      " 11  ship_postal_code    121149 non-null  object        \n",
      " 12  b2b                 121149 non-null  bool          \n",
      " 13  style_code          121149 non-null  object        \n",
      " 14  style_category      121149 non-null  object        \n",
      " 15  promotions          121149 non-null  object        \n",
      " 16  total_price         121149 non-null  float64       \n",
      "dtypes: bool(1), datetime64[ns](1), float64(2), int64(1), object(12)\n",
      "memory usage: 14.9+ MB\n"
     ]
    }
   ],
   "source": [
    "df.info()"
   ]
  },
  {
   "cell_type": "code",
   "execution_count": 40,
   "metadata": {},
   "outputs": [
    {
     "data": {
      "text/html": [
       "<div>\n",
       "<style scoped>\n",
       "    .dataframe tbody tr th:only-of-type {\n",
       "        vertical-align: middle;\n",
       "    }\n",
       "\n",
       "    .dataframe tbody tr th {\n",
       "        vertical-align: top;\n",
       "    }\n",
       "\n",
       "    .dataframe thead th {\n",
       "        text-align: right;\n",
       "    }\n",
       "</style>\n",
       "<table border=\"1\" class=\"dataframe\">\n",
       "  <thead>\n",
       "    <tr style=\"text-align: right;\">\n",
       "      <th></th>\n",
       "      <th>qty</th>\n",
       "      <th>amount</th>\n",
       "      <th>total_price</th>\n",
       "    </tr>\n",
       "  </thead>\n",
       "  <tbody>\n",
       "    <tr>\n",
       "      <th>count</th>\n",
       "      <td>121149.000000</td>\n",
       "      <td>121149.000000</td>\n",
       "      <td>121149.000000</td>\n",
       "    </tr>\n",
       "    <tr>\n",
       "      <th>mean</th>\n",
       "      <td>0.832677</td>\n",
       "      <td>648.573305</td>\n",
       "      <td>541.873800</td>\n",
       "    </tr>\n",
       "    <tr>\n",
       "      <th>std</th>\n",
       "      <td>0.525909</td>\n",
       "      <td>281.222115</td>\n",
       "      <td>485.315393</td>\n",
       "    </tr>\n",
       "    <tr>\n",
       "      <th>min</th>\n",
       "      <td>-4.000000</td>\n",
       "      <td>0.000000</td>\n",
       "      <td>-11184.000000</td>\n",
       "    </tr>\n",
       "    <tr>\n",
       "      <th>25%</th>\n",
       "      <td>1.000000</td>\n",
       "      <td>449.000000</td>\n",
       "      <td>399.000000</td>\n",
       "    </tr>\n",
       "    <tr>\n",
       "      <th>50%</th>\n",
       "      <td>1.000000</td>\n",
       "      <td>605.000000</td>\n",
       "      <td>563.000000</td>\n",
       "    </tr>\n",
       "    <tr>\n",
       "      <th>75%</th>\n",
       "      <td>1.000000</td>\n",
       "      <td>788.000000</td>\n",
       "      <td>771.000000</td>\n",
       "    </tr>\n",
       "    <tr>\n",
       "      <th>max</th>\n",
       "      <td>8.000000</td>\n",
       "      <td>5584.000000</td>\n",
       "      <td>44672.000000</td>\n",
       "    </tr>\n",
       "  </tbody>\n",
       "</table>\n",
       "</div>"
      ],
      "text/plain": [
       "                 qty         amount    total_price\n",
       "count  121149.000000  121149.000000  121149.000000\n",
       "mean        0.832677     648.573305     541.873800\n",
       "std         0.525909     281.222115     485.315393\n",
       "min        -4.000000       0.000000  -11184.000000\n",
       "25%         1.000000     449.000000     399.000000\n",
       "50%         1.000000     605.000000     563.000000\n",
       "75%         1.000000     788.000000     771.000000\n",
       "max         8.000000    5584.000000   44672.000000"
      ]
     },
     "execution_count": 40,
     "metadata": {},
     "output_type": "execute_result"
    }
   ],
   "source": [
    "df.describe()"
   ]
  },
  {
   "cell_type": "code",
   "execution_count": 41,
   "metadata": {},
   "outputs": [
    {
     "data": {
      "text/plain": [
       "array([2022], dtype=int64)"
      ]
     },
     "execution_count": 41,
     "metadata": {},
     "output_type": "execute_result"
    }
   ],
   "source": [
    "df['date'].dt.year.unique()"
   ]
  },
  {
   "cell_type": "code",
   "execution_count": 42,
   "metadata": {},
   "outputs": [
    {
     "data": {
      "text/plain": [
       "array([4, 3, 5, 6], dtype=int64)"
      ]
     },
     "execution_count": 42,
     "metadata": {},
     "output_type": "execute_result"
    }
   ],
   "source": [
    "df['date'].dt.month.unique()"
   ]
  },
  {
   "cell_type": "markdown",
   "metadata": {},
   "source": [
    "## Data Visualization\n",
    "___________________________________________________________________________________________________________________________"
   ]
  },
  {
   "cell_type": "code",
   "execution_count": 43,
   "metadata": {
    "scrolled": false
   },
   "outputs": [
    {
     "data": {
      "image/png": "[encoded data removed]",
      "text/plain": [
       "<Figure size 864x432 with 1 Axes>"
      ]
     },
     "metadata": {
      "needs_background": "light"
     },
     "output_type": "display_data"
    }
   ],
   "source": [
    "# plotting order counts based on their delivery status\n",
    "sns.set(style=\"whitegrid\", font_scale=1.2)\n",
    "plt.figure(figsize=(12, 6))\n",
    "\n",
    "sns.countplot(x='status', data=df)\n",
    "\n",
    "plt.xlabel(\"Delivery Status\", fontsize=14)\n",
    "plt.xticks(rotation=45)\n",
    "plt.ylabel(\"Count\", fontsize=14)\n",
    "plt.title(\"Distribution of Delivery Status\", fontsize=16)\n",
    "plt.tight_layout()\n",
    "plt.show()"
   ]
  },
  {
   "cell_type": "markdown",
   "metadata": {},
   "source": [
    ">* __Most of the orders are in-transit or are delivered.__\n",
    ">* __Also it appears that less than 9% of orders are cancelled.__\n",
    ">* __Less than 2% of are returned or in the delivery process of returning.__"
   ]
  },
  {
   "cell_type": "code",
   "execution_count": 44,
   "metadata": {
    "scrolled": true
   },
   "outputs": [
    {
     "data": {
      "image/png": "[encoded data removed]",
      "text/plain": [
       "<Figure size 864x432 with 1 Axes>"
      ]
     },
     "metadata": {
      "needs_background": "light"
     },
     "output_type": "display_data"
    }
   ],
   "source": [
    "# plotting order counts based on the clothing category\n",
    "plt.figure(figsize=(12, 6))\n",
    "\n",
    "sns.countplot(x='category', data=df)\n",
    "\n",
    "plt.xlabel(\"Clothing category\", fontsize=14)\n",
    "plt.xticks(rotation=45)\n",
    "plt.ylabel(\"Count\", fontsize=14)\n",
    "plt.title(\"Distribution of Clothing Category\", fontsize=16)\n",
    "plt.tight_layout()\n",
    "plt.show()"
   ]
  },
  {
   "cell_type": "markdown",
   "metadata": {},
   "source": [
    ">* __Set and Kurta are most demanded in clothing category, over 38% people likely ordering them each going neck to neck with each other.__\n",
    ">* __Saree and Dupatta are least ordered items.__\n",
    ">* __Quite a few people over 12% likes Western Dress.__"
   ]
  },
  {
   "cell_type": "code",
   "execution_count": 45,
   "metadata": {
    "scrolled": true
   },
   "outputs": [
    {
     "data": {
      "text/plain": [
       "Blouse           8.513053\n",
       "Bottom           9.761905\n",
       "Dupatta               NaN\n",
       "Ethnic Dress     7.319305\n",
       "Saree            7.741935\n",
       "Set              8.928154\n",
       "Top              8.157040\n",
       "Western Dress    9.079780\n",
       "kurta            8.972163\n",
       "Name: category, dtype: float64"
      ]
     },
     "execution_count": 45,
     "metadata": {},
     "output_type": "execute_result"
    }
   ],
   "source": [
    "# Calculating the percentage of canceled orders by dressing category.\n",
    "(df[df['status']== 'Cancelled']['category'].value_counts()) / (df['category'].value_counts()) * 100"
   ]
  },
  {
   "cell_type": "markdown",
   "metadata": {},
   "source": [
    "> __None of the dress category seems to significantly leads to cancellation of orders.__"
   ]
  },
  {
   "cell_type": "code",
   "execution_count": 46,
   "metadata": {},
   "outputs": [
    {
     "data": {
      "text/plain": [
       "6XL     5.815603\n",
       "5XL     6.273764\n",
       "4XL     7.142857\n",
       "3XL     7.970963\n",
       "XXL     8.263494\n",
       "Free    8.707865\n",
       "XL      8.812047\n",
       "L       8.907700\n",
       "M       9.358264\n",
       "S       9.368533\n",
       "XS      9.917436\n",
       "Name: size, dtype: float64"
      ]
     },
     "execution_count": 46,
     "metadata": {},
     "output_type": "execute_result"
    }
   ],
   "source": [
    "# Calculating the percentage of canceled orders by dress sizes.\n",
    "((df[df['status']== 'Cancelled']['size'].value_counts()) / (df['size'].value_counts()) * 100).sort_values()"
   ]
  },
  {
   "cell_type": "markdown",
   "metadata": {},
   "source": [
    "> __Smaller size dresses are most likely to be cancelled compared to larger size dresses.__"
   ]
  },
  {
   "cell_type": "code",
   "execution_count": 47,
   "metadata": {},
   "outputs": [
    {
     "data": {
      "image/png": "[encoded data removed]",
      "text/plain": [
       "<Figure size 576x576 with 1 Axes>"
      ]
     },
     "metadata": {},
     "output_type": "display_data"
    }
   ],
   "source": [
    "# Plotting the distribution of Order fulfilment partner on a pie chart.\n",
    "plt.figure(figsize=(8, 8))\n",
    "colors = sns.color_palette('Set3')\n",
    "\n",
    "plt.pie(df['fulfilment'].value_counts(), labels=df['fulfilment'].value_counts().index, colors=colors, autopct='%1.1f%%')\n",
    "\n",
    "plt.title('Distribution of Order Fulfilment partner')\n",
    "plt.axis('equal')\n",
    "plt.show()"
   ]
  },
  {
   "cell_type": "markdown",
   "metadata": {},
   "source": [
    "> __Order fulfilment is done mostly by two sources, either by Amazon themselve or via Merchant. However, Amazon fulfills more than two-thirdth of the orders.__"
   ]
  },
  {
   "cell_type": "code",
   "execution_count": 48,
   "metadata": {},
   "outputs": [
    {
     "data": {
      "image/png": "[encoded data removed]",
      "text/plain": [
       "<Figure size 576x576 with 1 Axes>"
      ]
     },
     "metadata": {},
     "output_type": "display_data"
    }
   ],
   "source": [
    "# plotting the distribution of Type of Shipping Service Used on a pie chart.\n",
    "plt.figure(figsize=(8, 8))\n",
    "colors = sns.color_palette('Accent')\n",
    "\n",
    "plt.pie(df['ship_service_level'].value_counts(), labels=df['ship_service_level'].value_counts().index, colors=colors, autopct='%1.1f%%')\n",
    "plt.title('Distribution of Type of Shipping Service Used')\n",
    "plt.axis('equal')\n",
    "plt.show()"
   ]
  },
  {
   "cell_type": "markdown",
   "metadata": {},
   "source": [
    "> __Customers prefer Expedited Shipping Service twice more than that of Standard Shipping Service.__"
   ]
  },
  {
   "cell_type": "code",
   "execution_count": 49,
   "metadata": {
    "scrolled": true
   },
   "outputs": [
    {
     "data": {
      "image/png": "[encoded data removed]",
      "text/plain": [
       "<Figure size 864x432 with 1 Axes>"
      ]
     },
     "metadata": {
      "needs_background": "light"
     },
     "output_type": "display_data"
    }
   ],
   "source": [
    "# plotting the distribution of Items based on their sizes.\n",
    "plt.figure(figsize=(12, 6))\n",
    "\n",
    "# Define the desired order for the 'size' categories\n",
    "size_order = ['Free', 'XS', 'S', 'M', 'L', 'XL', 'XXL', '3XL', '4XL', '5XL', '6XL']\n",
    "\n",
    "sns.countplot(x='size', data=df, order=size_order, palette=\"viridis_r\")\n",
    "\n",
    "plt.xlabel(\"Size\", fontsize=14)\n",
    "plt.ylabel(\"Count\", fontsize=14)\n",
    "plt.title(\"Distribution of items based on the Sizes\", fontsize=16)\n",
    "plt.tight_layout()\n",
    "plt.show()"
   ]
  },
  {
   "cell_type": "markdown",
   "metadata": {},
   "source": [
    ">* __Most preferable size choice is Medium, followed by Large and Xtra-Large.__\n",
    ">* __Free Style size , 4_Xtra-large, 5_Xtra-large, and 6_Xtra-large sizes are least ordered.__\n",
    ">* __Rest of the sizes are moderately prefered.__"
   ]
  },
  {
   "cell_type": "code",
   "execution_count": 50,
   "metadata": {},
   "outputs": [
    {
     "data": {
      "image/png": "[encoded data removed]",
      "text/plain": [
       "<Figure size 864x432 with 1 Axes>"
      ]
     },
     "metadata": {
      "needs_background": "light"
     },
     "output_type": "display_data"
    }
   ],
   "source": [
    "# plotting revenue generated by an items based on their sizes.\n",
    "plt.figure(figsize=(12, 6))\n",
    "\n",
    "# Define the desired order for the 'size' categories\n",
    "size_order = ['Free', 'XS', 'S', 'M', 'L', 'XL', 'XXL', '3XL', '4XL', '5XL', '6XL']\n",
    "\n",
    "# Group the data by 'size' and calculate the total amount for each size\n",
    "total_amount_by_size = df.groupby('size')['total_price'].sum().reset_index()\n",
    "\n",
    "sns.barplot(x='size', y='total_price', data=total_amount_by_size, order=size_order, palette=\"mako_r\")\n",
    "\n",
    "plt.xlabel(\"Size\", fontsize=14)\n",
    "plt.ylabel(\"Total Revenue\", fontsize=14)\n",
    "plt.title(\"Total Revenue of items by Size\", fontsize=16)\n",
    "plt.tight_layout()\n",
    "plt.show()"
   ]
  },
  {
   "cell_type": "markdown",
   "metadata": {},
   "source": [
    "> __Revenue generated from different sizes of clothing corresponds to quantity ordered of different sizes.__ "
   ]
  },
  {
   "cell_type": "code",
   "execution_count": 51,
   "metadata": {
    "scrolled": true
   },
   "outputs": [
    {
     "data": {
      "image/png": "[encoded data removed]",
      "text/plain": [
       "<Figure size 864x720 with 1 Axes>"
      ]
     },
     "metadata": {},
     "output_type": "display_data"
    }
   ],
   "source": [
    "# plotting demand for item in various states.\n",
    "sns.set(style=\"darkgrid\", font_scale=1.2)\n",
    "state_counts = df['ship_state'].value_counts().sort_values(ascending=False)\n",
    "\n",
    "plt.figure(figsize=(12, 10))\n",
    "plt.barh(state_counts.index, state_counts.values, color='#91D63C')\n",
    "plt.gca().invert_yaxis()\n",
    "plt.xlabel('Number of Orders', fontsize=14)\n",
    "plt.ylabel('State', fontsize=14)\n",
    "plt.title('Number of Orders by Ship State', fontsize=16)\n",
    "\n",
    "# Display the count values on the bars\n",
    "for i, v in enumerate(state_counts.values):\n",
    "    plt.text(v + 10, i, str(v), color='black', fontsize=12, va='center', ha='left')\n",
    "\n",
    "plt.tight_layout()\n",
    "plt.show()"
   ]
  },
  {
   "cell_type": "markdown",
   "metadata": {},
   "source": [
    ">* __Maharashtra and Karnataka are top two states where heavy demand for the clothing comes from.__\n",
    ">* __Following top two states are Tamil Nadu, Telangana and Uttar Pradesh where most of the orders come from.__\n",
    ">* __North-Eastern states, Union Territories and islands of Lakshadweep, Andaman & Nicobar has least demand for clothings.__"
   ]
  },
  {
   "cell_type": "code",
   "execution_count": 52,
   "metadata": {},
   "outputs": [
    {
     "data": {
      "image/png": "[encoded data removed]",
      "text/plain": [
       "<Figure size 864x576 with 1 Axes>"
      ]
     },
     "metadata": {},
     "output_type": "display_data"
    }
   ],
   "source": [
    "# plotting demand for item in top 15 cities.\n",
    "city_counts = df['ship_city'].value_counts().sort_values(ascending=False)[:15]\n",
    "\n",
    "# Create the chart\n",
    "plt.figure(figsize=(12, 8))\n",
    "plt.barh(city_counts.index, city_counts.values, color='#B066FA')\n",
    "\n",
    "plt.xlabel('Number of Orders', fontsize=14)\n",
    "plt.ylabel('City', fontsize=14)\n",
    "plt.title('Top 15 Cities by Highest Number of Orders', fontsize=16)\n",
    "\n",
    "for i, v in enumerate(city_counts.values):\n",
    "    plt.text(v + 5, i, str(v), color='black', fontsize=12, va='center', ha='left')\n",
    "\n",
    "plt.gca().invert_yaxis()\n",
    "plt.tight_layout()\n",
    "plt.show()"
   ]
  },
  {
   "cell_type": "markdown",
   "metadata": {},
   "source": [
    "> * __Bengaluru and Hyderabad outranks Mumbai in terms of demand.__\n",
    "> * __Most of distribution of demand seems to be concentrated in Capital cities.__"
   ]
  },
  {
   "cell_type": "code",
   "execution_count": 53,
   "metadata": {
    "scrolled": false
   },
   "outputs": [
    {
     "data": {
      "image/png": "[encoded data removed]",
      "text/plain": [
       "<Figure size 864x504 with 1 Axes>"
      ]
     },
     "metadata": {},
     "output_type": "display_data"
    }
   ],
   "source": [
    "# plotting revenue generated by top 10 states.\n",
    "state_amounts = df.groupby(['ship_state'])['total_price'].sum().sort_values(ascending=False)[:10]\n",
    "\n",
    "plt.figure(figsize=(12, 7))\n",
    "plt.barh(state_amounts.index, state_amounts.values, color='#EA7378')\n",
    "\n",
    "plt.xlabel('Total Amount', fontsize=14)\n",
    "plt.ylabel('Ship State', fontsize=14)\n",
    "plt.title('Top 10 States by Total Amount Distribution', fontsize=16)\n",
    "\n",
    "for i, v in enumerate(state_amounts.values):\n",
    "    plt.text(v + 10, i, f\"Rs. {v:,.0f}\", color='black', fontsize=12, va='center', ha='left')\n",
    "\n",
    "plt.gca().invert_yaxis()\n",
    "plt.tight_layout()\n",
    "plt.show()"
   ]
  },
  {
   "cell_type": "markdown",
   "metadata": {},
   "source": [
    ">* __70% of the Revenue is generated from the top 10 states.__\n",
    ">* __Among those top 10 Maharashtra and Karnataka themselves combined contribute to 30% Revenue.__\n",
    ">* __Telangana, Uttar Pradesh, and Tamil Nadu have equal standing of 8% in terms of contributing to revenue.__"
   ]
  },
  {
   "cell_type": "code",
   "execution_count": 54,
   "metadata": {},
   "outputs": [
    {
     "data": {
      "image/png": "[encoded data removed]",
      "text/plain": [
       "<Figure size 864x432 with 1 Axes>"
      ]
     },
     "metadata": {},
     "output_type": "display_data"
    }
   ],
   "source": [
    "plt.figure(figsize=(12, 6))\n",
    "sns.boxplot(x='category', y='amount', data=df, palette='Set2')\n",
    "\n",
    "plt.xlabel(\"Dress Category\", fontsize=14)\n",
    "plt.ylabel(\"Price\", fontsize=14)\n",
    "plt.title(\"Distribution of Price by Dress Category\", fontsize=16)\n",
    "plt.tight_layout()\n",
    "plt.show()"
   ]
  },
  {
   "cell_type": "markdown",
   "metadata": {},
   "source": [
    "> * __Set and Ethnic dress have very wide range of pricing.__\n",
    "> * __Some of the clothings in Set Category are priced very high.__\n",
    "> * __Bottom and Kurta fall in the lowest price band.__"
   ]
  },
  {
   "cell_type": "code",
   "execution_count": 55,
   "metadata": {},
   "outputs": [
    {
     "data": {
      "image/png": "[encoded data removed]",
      "text/plain": [
       "<Figure size 1008x432 with 1 Axes>"
      ]
     },
     "metadata": {},
     "output_type": "display_data"
    }
   ],
   "source": [
    "plt.figure(figsize=(14, 6))\n",
    "\n",
    "sns.boxplot(x='style_code', y='amount', data=df, palette=\"Set3\")\n",
    "\n",
    "plt.xlabel(\"Style Code\", fontsize=14)\n",
    "plt.xticks(rotation=45)\n",
    "plt.ylabel(\"Price\", fontsize=14)\n",
    "plt.title(\"Distribution of Price by Style Code\", fontsize=16)\n",
    "plt.tight_layout()\n",
    "plt.show()"
   ]
  },
  {
   "cell_type": "markdown",
   "metadata": {},
   "source": [
    "> * __Items with style code 'J' have very wide price range, whereas items with style code 'CH' and 'AN' are mostly priced around Rs.400__\n",
    "> * __Items with style code 'PSET' are priced at premium price of over RS.800__"
   ]
  },
  {
   "cell_type": "code",
   "execution_count": 56,
   "metadata": {},
   "outputs": [
    {
     "data": {
      "image/png": "[encoded data removed]",
      "text/plain": [
       "<Figure size 1008x432 with 1 Axes>"
      ]
     },
     "metadata": {},
     "output_type": "display_data"
    }
   ],
   "source": [
    "date_counts = df['date'].value_counts().sort_index()\n",
    "plt.figure(figsize=(14, 6))\n",
    "\n",
    "plt.plot(date_counts.index, date_counts.values, marker='o', linestyle='-', linewidth=2, \n",
    "         color='#782743', label='Order Volumes', markerfacecolor='none', markersize=6.5)\n",
    "\n",
    "plt.xlabel('Date', fontsize=14)\n",
    "plt.ylabel('Frequency', fontsize=14)\n",
    "plt.title('Order Volumes Over Time', fontsize=16)\n",
    "plt.xticks(rotation=45, fontsize=13)\n",
    "plt.legend()\n",
    "plt.tight_layout()\n",
    "plt.show()"
   ]
  },
  {
   "cell_type": "markdown",
   "metadata": {},
   "source": [
    "> * __There was a surge in demand from last week of April to first week of May.__\n",
    "> * __From 5th May there was sudden fall in demand up until 12th of May and then demand started steadily increasing for about a month.__\n",
    "> * __From second week of June there was again a steady decline in demand.__"
   ]
  },
  {
   "cell_type": "code",
   "execution_count": null,
   "metadata": {},
   "outputs": [],
   "source": []
  }
 ],
 "metadata": {
  "kernelspec": {
   "display_name": "Python 3",
   "language": "python",
   "name": "python3"
  },
  "language_info": {
   "codemirror_mode": {
    "name": "ipython",
    "version": 3
   },
   "file_extension": ".py",
   "mimetype": "text/x-python",
   "name": "python",
   "nbconvert_exporter": "python",
   "pygments_lexer": "ipython3",
   "version": "3.8.5"
  }
 },
 "nbformat": 4,
 "nbformat_minor": 4
}
